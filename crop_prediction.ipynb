{
  "nbformat": 4,
  "nbformat_minor": 0,
  "metadata": {
    "colab": {
      "provenance": [],
      "gpuType": "T4",
      "collapsed_sections": [
        "vfwNFkVECzlg",
        "mUW-Ni36QzxH",
        "MT5oFprfPWiq",
        "bfbguvQnPRgk",
        "pk1yH0EIU72n",
        "EY2QsrAeVTex"
      ],
      "authorship_tag": "ABX9TyMnRYwnAQzb1L7oLsetNQn0",
      "include_colab_link": true
    },
    "kernelspec": {
      "name": "python3",
      "display_name": "Python 3"
    },
    "language_info": {
      "name": "python"
    }
  },
  "cells": [
    {
      "cell_type": "markdown",
      "metadata": {
        "id": "view-in-github",
        "colab_type": "text"
      },
      "source": [
        "<a href=\"https://colab.research.google.com/github/vishvani/Desktop_Assistant/blob/main/crop_prediction.ipynb\" target=\"_parent\"><img src=\"https://colab.research.google.com/assets/colab-badge.svg\" alt=\"Open In Colab\"/></a>"
      ]
    },
    {
      "cell_type": "markdown",
      "source": [
        "#Importing packages and preprocessing data"
      ],
      "metadata": {
        "id": "vfwNFkVECzlg"
      }
    },
    {
      "cell_type": "code",
      "execution_count": null,
      "metadata": {
        "id": "rVr2F7J0T0zX"
      },
      "outputs": [],
      "source": [
        "#IMPORTING LIBRARIES\n",
        "import numpy as np\n",
        "import pandas as pd\n",
        "import matplotlib.pyplot as plt\n",
        "import seaborn as sns"
      ]
    },
    {
      "cell_type": "code",
      "source": [
        "df=pd.read_csv(\"/content/crop-dataset.csv\")\n",
        "df.head()\n",
        "#df.info()"
      ],
      "metadata": {
        "id": "5qf4MH8mUCVj",
        "colab": {
          "base_uri": "https://localhost:8080/",
          "height": 206
        },
        "outputId": "0b22df68-d8a5-4700-9923-500a9ae7a317"
      },
      "execution_count": null,
      "outputs": [
        {
          "output_type": "execute_result",
          "data": {
            "text/plain": [
              "   N_SOIL  P_SOIL  K_SOIL  TEMPERATURE   HUMIDITY        ph    RAINFALL  \\\n",
              "0      90      42      43    20.879744  82.002744  6.502985  202.935536   \n",
              "1      85      58      41    21.770462  80.319644  7.038096  226.655537   \n",
              "2      60      55      44    23.004459  82.320763  7.840207  263.964248   \n",
              "3      74      35      40    26.491096  80.158363  6.980401  242.864034   \n",
              "4      78      42      42    20.130175  81.604873  7.628473  262.717340   \n",
              "\n",
              "                 STATE  CROP_PRICE  CROP  \n",
              "0  Andaman and Nicobar        7000  Rice  \n",
              "1  Andaman and Nicobar        5000  Rice  \n",
              "2  Andaman and Nicobar        7000  Rice  \n",
              "3  Andaman and Nicobar        7000  Rice  \n",
              "4  Andaman and Nicobar      120000  Rice  "
            ],
            "text/html": [
              "\n",
              "  <div id=\"df-848508f7-21da-4c86-82e6-490a9db465a8\" class=\"colab-df-container\">\n",
              "    <div>\n",
              "<style scoped>\n",
              "    .dataframe tbody tr th:only-of-type {\n",
              "        vertical-align: middle;\n",
              "    }\n",
              "\n",
              "    .dataframe tbody tr th {\n",
              "        vertical-align: top;\n",
              "    }\n",
              "\n",
              "    .dataframe thead th {\n",
              "        text-align: right;\n",
              "    }\n",
              "</style>\n",
              "<table border=\"1\" class=\"dataframe\">\n",
              "  <thead>\n",
              "    <tr style=\"text-align: right;\">\n",
              "      <th></th>\n",
              "      <th>N_SOIL</th>\n",
              "      <th>P_SOIL</th>\n",
              "      <th>K_SOIL</th>\n",
              "      <th>TEMPERATURE</th>\n",
              "      <th>HUMIDITY</th>\n",
              "      <th>ph</th>\n",
              "      <th>RAINFALL</th>\n",
              "      <th>STATE</th>\n",
              "      <th>CROP_PRICE</th>\n",
              "      <th>CROP</th>\n",
              "    </tr>\n",
              "  </thead>\n",
              "  <tbody>\n",
              "    <tr>\n",
              "      <th>0</th>\n",
              "      <td>90</td>\n",
              "      <td>42</td>\n",
              "      <td>43</td>\n",
              "      <td>20.879744</td>\n",
              "      <td>82.002744</td>\n",
              "      <td>6.502985</td>\n",
              "      <td>202.935536</td>\n",
              "      <td>Andaman and Nicobar</td>\n",
              "      <td>7000</td>\n",
              "      <td>Rice</td>\n",
              "    </tr>\n",
              "    <tr>\n",
              "      <th>1</th>\n",
              "      <td>85</td>\n",
              "      <td>58</td>\n",
              "      <td>41</td>\n",
              "      <td>21.770462</td>\n",
              "      <td>80.319644</td>\n",
              "      <td>7.038096</td>\n",
              "      <td>226.655537</td>\n",
              "      <td>Andaman and Nicobar</td>\n",
              "      <td>5000</td>\n",
              "      <td>Rice</td>\n",
              "    </tr>\n",
              "    <tr>\n",
              "      <th>2</th>\n",
              "      <td>60</td>\n",
              "      <td>55</td>\n",
              "      <td>44</td>\n",
              "      <td>23.004459</td>\n",
              "      <td>82.320763</td>\n",
              "      <td>7.840207</td>\n",
              "      <td>263.964248</td>\n",
              "      <td>Andaman and Nicobar</td>\n",
              "      <td>7000</td>\n",
              "      <td>Rice</td>\n",
              "    </tr>\n",
              "    <tr>\n",
              "      <th>3</th>\n",
              "      <td>74</td>\n",
              "      <td>35</td>\n",
              "      <td>40</td>\n",
              "      <td>26.491096</td>\n",
              "      <td>80.158363</td>\n",
              "      <td>6.980401</td>\n",
              "      <td>242.864034</td>\n",
              "      <td>Andaman and Nicobar</td>\n",
              "      <td>7000</td>\n",
              "      <td>Rice</td>\n",
              "    </tr>\n",
              "    <tr>\n",
              "      <th>4</th>\n",
              "      <td>78</td>\n",
              "      <td>42</td>\n",
              "      <td>42</td>\n",
              "      <td>20.130175</td>\n",
              "      <td>81.604873</td>\n",
              "      <td>7.628473</td>\n",
              "      <td>262.717340</td>\n",
              "      <td>Andaman and Nicobar</td>\n",
              "      <td>120000</td>\n",
              "      <td>Rice</td>\n",
              "    </tr>\n",
              "  </tbody>\n",
              "</table>\n",
              "</div>\n",
              "    <div class=\"colab-df-buttons\">\n",
              "\n",
              "  <div class=\"colab-df-container\">\n",
              "    <button class=\"colab-df-convert\" onclick=\"convertToInteractive('df-848508f7-21da-4c86-82e6-490a9db465a8')\"\n",
              "            title=\"Convert this dataframe to an interactive table.\"\n",
              "            style=\"display:none;\">\n",
              "\n",
              "  <svg xmlns=\"http://www.w3.org/2000/svg\" height=\"24px\" viewBox=\"0 -960 960 960\">\n",
              "    <path d=\"M120-120v-720h720v720H120Zm60-500h600v-160H180v160Zm220 220h160v-160H400v160Zm0 220h160v-160H400v160ZM180-400h160v-160H180v160Zm440 0h160v-160H620v160ZM180-180h160v-160H180v160Zm440 0h160v-160H620v160Z\"/>\n",
              "  </svg>\n",
              "    </button>\n",
              "\n",
              "  <style>\n",
              "    .colab-df-container {\n",
              "      display:flex;\n",
              "      gap: 12px;\n",
              "    }\n",
              "\n",
              "    .colab-df-convert {\n",
              "      background-color: #E8F0FE;\n",
              "      border: none;\n",
              "      border-radius: 50%;\n",
              "      cursor: pointer;\n",
              "      display: none;\n",
              "      fill: #1967D2;\n",
              "      height: 32px;\n",
              "      padding: 0 0 0 0;\n",
              "      width: 32px;\n",
              "    }\n",
              "\n",
              "    .colab-df-convert:hover {\n",
              "      background-color: #E2EBFA;\n",
              "      box-shadow: 0px 1px 2px rgba(60, 64, 67, 0.3), 0px 1px 3px 1px rgba(60, 64, 67, 0.15);\n",
              "      fill: #174EA6;\n",
              "    }\n",
              "\n",
              "    .colab-df-buttons div {\n",
              "      margin-bottom: 4px;\n",
              "    }\n",
              "\n",
              "    [theme=dark] .colab-df-convert {\n",
              "      background-color: #3B4455;\n",
              "      fill: #D2E3FC;\n",
              "    }\n",
              "\n",
              "    [theme=dark] .colab-df-convert:hover {\n",
              "      background-color: #434B5C;\n",
              "      box-shadow: 0px 1px 3px 1px rgba(0, 0, 0, 0.15);\n",
              "      filter: drop-shadow(0px 1px 2px rgba(0, 0, 0, 0.3));\n",
              "      fill: #FFFFFF;\n",
              "    }\n",
              "  </style>\n",
              "\n",
              "    <script>\n",
              "      const buttonEl =\n",
              "        document.querySelector('#df-848508f7-21da-4c86-82e6-490a9db465a8 button.colab-df-convert');\n",
              "      buttonEl.style.display =\n",
              "        google.colab.kernel.accessAllowed ? 'block' : 'none';\n",
              "\n",
              "      async function convertToInteractive(key) {\n",
              "        const element = document.querySelector('#df-848508f7-21da-4c86-82e6-490a9db465a8');\n",
              "        const dataTable =\n",
              "          await google.colab.kernel.invokeFunction('convertToInteractive',\n",
              "                                                    [key], {});\n",
              "        if (!dataTable) return;\n",
              "\n",
              "        const docLinkHtml = 'Like what you see? Visit the ' +\n",
              "          '<a target=\"_blank\" href=https://colab.research.google.com/notebooks/data_table.ipynb>data table notebook</a>'\n",
              "          + ' to learn more about interactive tables.';\n",
              "        element.innerHTML = '';\n",
              "        dataTable['output_type'] = 'display_data';\n",
              "        await google.colab.output.renderOutput(dataTable, element);\n",
              "        const docLink = document.createElement('div');\n",
              "        docLink.innerHTML = docLinkHtml;\n",
              "        element.appendChild(docLink);\n",
              "      }\n",
              "    </script>\n",
              "  </div>\n",
              "\n",
              "\n",
              "<div id=\"df-69865945-4c0c-45f2-9b50-335c4a0c3768\">\n",
              "  <button class=\"colab-df-quickchart\" onclick=\"quickchart('df-69865945-4c0c-45f2-9b50-335c4a0c3768')\"\n",
              "            title=\"Suggest charts.\"\n",
              "            style=\"display:none;\">\n",
              "\n",
              "<svg xmlns=\"http://www.w3.org/2000/svg\" height=\"24px\"viewBox=\"0 0 24 24\"\n",
              "     width=\"24px\">\n",
              "    <g>\n",
              "        <path d=\"M19 3H5c-1.1 0-2 .9-2 2v14c0 1.1.9 2 2 2h14c1.1 0 2-.9 2-2V5c0-1.1-.9-2-2-2zM9 17H7v-7h2v7zm4 0h-2V7h2v10zm4 0h-2v-4h2v4z\"/>\n",
              "    </g>\n",
              "</svg>\n",
              "  </button>\n",
              "\n",
              "<style>\n",
              "  .colab-df-quickchart {\n",
              "      --bg-color: #E8F0FE;\n",
              "      --fill-color: #1967D2;\n",
              "      --hover-bg-color: #E2EBFA;\n",
              "      --hover-fill-color: #174EA6;\n",
              "      --disabled-fill-color: #AAA;\n",
              "      --disabled-bg-color: #DDD;\n",
              "  }\n",
              "\n",
              "  [theme=dark] .colab-df-quickchart {\n",
              "      --bg-color: #3B4455;\n",
              "      --fill-color: #D2E3FC;\n",
              "      --hover-bg-color: #434B5C;\n",
              "      --hover-fill-color: #FFFFFF;\n",
              "      --disabled-bg-color: #3B4455;\n",
              "      --disabled-fill-color: #666;\n",
              "  }\n",
              "\n",
              "  .colab-df-quickchart {\n",
              "    background-color: var(--bg-color);\n",
              "    border: none;\n",
              "    border-radius: 50%;\n",
              "    cursor: pointer;\n",
              "    display: none;\n",
              "    fill: var(--fill-color);\n",
              "    height: 32px;\n",
              "    padding: 0;\n",
              "    width: 32px;\n",
              "  }\n",
              "\n",
              "  .colab-df-quickchart:hover {\n",
              "    background-color: var(--hover-bg-color);\n",
              "    box-shadow: 0 1px 2px rgba(60, 64, 67, 0.3), 0 1px 3px 1px rgba(60, 64, 67, 0.15);\n",
              "    fill: var(--button-hover-fill-color);\n",
              "  }\n",
              "\n",
              "  .colab-df-quickchart-complete:disabled,\n",
              "  .colab-df-quickchart-complete:disabled:hover {\n",
              "    background-color: var(--disabled-bg-color);\n",
              "    fill: var(--disabled-fill-color);\n",
              "    box-shadow: none;\n",
              "  }\n",
              "\n",
              "  .colab-df-spinner {\n",
              "    border: 2px solid var(--fill-color);\n",
              "    border-color: transparent;\n",
              "    border-bottom-color: var(--fill-color);\n",
              "    animation:\n",
              "      spin 1s steps(1) infinite;\n",
              "  }\n",
              "\n",
              "  @keyframes spin {\n",
              "    0% {\n",
              "      border-color: transparent;\n",
              "      border-bottom-color: var(--fill-color);\n",
              "      border-left-color: var(--fill-color);\n",
              "    }\n",
              "    20% {\n",
              "      border-color: transparent;\n",
              "      border-left-color: var(--fill-color);\n",
              "      border-top-color: var(--fill-color);\n",
              "    }\n",
              "    30% {\n",
              "      border-color: transparent;\n",
              "      border-left-color: var(--fill-color);\n",
              "      border-top-color: var(--fill-color);\n",
              "      border-right-color: var(--fill-color);\n",
              "    }\n",
              "    40% {\n",
              "      border-color: transparent;\n",
              "      border-right-color: var(--fill-color);\n",
              "      border-top-color: var(--fill-color);\n",
              "    }\n",
              "    60% {\n",
              "      border-color: transparent;\n",
              "      border-right-color: var(--fill-color);\n",
              "    }\n",
              "    80% {\n",
              "      border-color: transparent;\n",
              "      border-right-color: var(--fill-color);\n",
              "      border-bottom-color: var(--fill-color);\n",
              "    }\n",
              "    90% {\n",
              "      border-color: transparent;\n",
              "      border-bottom-color: var(--fill-color);\n",
              "    }\n",
              "  }\n",
              "</style>\n",
              "\n",
              "  <script>\n",
              "    async function quickchart(key) {\n",
              "      const quickchartButtonEl =\n",
              "        document.querySelector('#' + key + ' button');\n",
              "      quickchartButtonEl.disabled = true;  // To prevent multiple clicks.\n",
              "      quickchartButtonEl.classList.add('colab-df-spinner');\n",
              "      try {\n",
              "        const charts = await google.colab.kernel.invokeFunction(\n",
              "            'suggestCharts', [key], {});\n",
              "      } catch (error) {\n",
              "        console.error('Error during call to suggestCharts:', error);\n",
              "      }\n",
              "      quickchartButtonEl.classList.remove('colab-df-spinner');\n",
              "      quickchartButtonEl.classList.add('colab-df-quickchart-complete');\n",
              "    }\n",
              "    (() => {\n",
              "      let quickchartButtonEl =\n",
              "        document.querySelector('#df-69865945-4c0c-45f2-9b50-335c4a0c3768 button');\n",
              "      quickchartButtonEl.style.display =\n",
              "        google.colab.kernel.accessAllowed ? 'block' : 'none';\n",
              "    })();\n",
              "  </script>\n",
              "</div>\n",
              "    </div>\n",
              "  </div>\n"
            ]
          },
          "metadata": {},
          "execution_count": 2
        }
      ]
    },
    {
      "cell_type": "code",
      "source": [
        "#DATA PREPROCESSING\n",
        "df.isnull().sum()"
      ],
      "metadata": {
        "id": "k3Kd9HSgUEuO",
        "colab": {
          "base_uri": "https://localhost:8080/"
        },
        "outputId": "2082a653-b211-4a7a-e97d-f795d1eebc54"
      },
      "execution_count": null,
      "outputs": [
        {
          "output_type": "execute_result",
          "data": {
            "text/plain": [
              "N_SOIL         0\n",
              "P_SOIL         0\n",
              "K_SOIL         0\n",
              "TEMPERATURE    0\n",
              "HUMIDITY       0\n",
              "ph             0\n",
              "RAINFALL       0\n",
              "STATE          0\n",
              "CROP_PRICE     0\n",
              "CROP           0\n",
              "dtype: int64"
            ]
          },
          "metadata": {},
          "execution_count": 3
        }
      ]
    },
    {
      "cell_type": "code",
      "source": [
        "df.corr()"
      ],
      "metadata": {
        "id": "-zLIN0GuUExd",
        "colab": {
          "base_uri": "https://localhost:8080/",
          "height": 355
        },
        "outputId": "597a526e-81a5-4588-f837-808cd25fac0e"
      },
      "execution_count": null,
      "outputs": [
        {
          "output_type": "stream",
          "name": "stderr",
          "text": [
            "<ipython-input-4-2f6f6606aa2c>:1: FutureWarning: The default value of numeric_only in DataFrame.corr is deprecated. In a future version, it will default to False. Select only valid columns or specify the value of numeric_only to silence this warning.\n",
            "  df.corr()\n"
          ]
        },
        {
          "output_type": "execute_result",
          "data": {
            "text/plain": [
              "               N_SOIL    P_SOIL    K_SOIL  TEMPERATURE  HUMIDITY        ph  \\\n",
              "N_SOIL       1.000000 -0.231460 -0.140512     0.026504  0.190688  0.096683   \n",
              "P_SOIL      -0.231460  1.000000  0.736232    -0.127541 -0.118734 -0.138019   \n",
              "K_SOIL      -0.140512  0.736232  1.000000    -0.160387  0.190859 -0.169503   \n",
              "TEMPERATURE  0.026504 -0.127541 -0.160387     1.000000  0.205320 -0.017795   \n",
              "HUMIDITY     0.190688 -0.118734  0.190859     0.205320  1.000000 -0.008483   \n",
              "ph           0.096683 -0.138019 -0.169503    -0.017795 -0.008483  1.000000   \n",
              "RAINFALL     0.059020 -0.063839 -0.053461    -0.030084  0.094423 -0.109069   \n",
              "CROP_PRICE  -0.001302 -0.023683 -0.021923    -0.029044 -0.041414 -0.033548   \n",
              "\n",
              "             RAINFALL  CROP_PRICE  \n",
              "N_SOIL       0.059020   -0.001302  \n",
              "P_SOIL      -0.063839   -0.023683  \n",
              "K_SOIL      -0.053461   -0.021923  \n",
              "TEMPERATURE -0.030084   -0.029044  \n",
              "HUMIDITY     0.094423   -0.041414  \n",
              "ph          -0.109069   -0.033548  \n",
              "RAINFALL     1.000000    0.058847  \n",
              "CROP_PRICE   0.058847    1.000000  "
            ],
            "text/html": [
              "\n",
              "  <div id=\"df-83c956f1-081b-4e74-b79c-2f3b9d1bbeef\" class=\"colab-df-container\">\n",
              "    <div>\n",
              "<style scoped>\n",
              "    .dataframe tbody tr th:only-of-type {\n",
              "        vertical-align: middle;\n",
              "    }\n",
              "\n",
              "    .dataframe tbody tr th {\n",
              "        vertical-align: top;\n",
              "    }\n",
              "\n",
              "    .dataframe thead th {\n",
              "        text-align: right;\n",
              "    }\n",
              "</style>\n",
              "<table border=\"1\" class=\"dataframe\">\n",
              "  <thead>\n",
              "    <tr style=\"text-align: right;\">\n",
              "      <th></th>\n",
              "      <th>N_SOIL</th>\n",
              "      <th>P_SOIL</th>\n",
              "      <th>K_SOIL</th>\n",
              "      <th>TEMPERATURE</th>\n",
              "      <th>HUMIDITY</th>\n",
              "      <th>ph</th>\n",
              "      <th>RAINFALL</th>\n",
              "      <th>CROP_PRICE</th>\n",
              "    </tr>\n",
              "  </thead>\n",
              "  <tbody>\n",
              "    <tr>\n",
              "      <th>N_SOIL</th>\n",
              "      <td>1.000000</td>\n",
              "      <td>-0.231460</td>\n",
              "      <td>-0.140512</td>\n",
              "      <td>0.026504</td>\n",
              "      <td>0.190688</td>\n",
              "      <td>0.096683</td>\n",
              "      <td>0.059020</td>\n",
              "      <td>-0.001302</td>\n",
              "    </tr>\n",
              "    <tr>\n",
              "      <th>P_SOIL</th>\n",
              "      <td>-0.231460</td>\n",
              "      <td>1.000000</td>\n",
              "      <td>0.736232</td>\n",
              "      <td>-0.127541</td>\n",
              "      <td>-0.118734</td>\n",
              "      <td>-0.138019</td>\n",
              "      <td>-0.063839</td>\n",
              "      <td>-0.023683</td>\n",
              "    </tr>\n",
              "    <tr>\n",
              "      <th>K_SOIL</th>\n",
              "      <td>-0.140512</td>\n",
              "      <td>0.736232</td>\n",
              "      <td>1.000000</td>\n",
              "      <td>-0.160387</td>\n",
              "      <td>0.190859</td>\n",
              "      <td>-0.169503</td>\n",
              "      <td>-0.053461</td>\n",
              "      <td>-0.021923</td>\n",
              "    </tr>\n",
              "    <tr>\n",
              "      <th>TEMPERATURE</th>\n",
              "      <td>0.026504</td>\n",
              "      <td>-0.127541</td>\n",
              "      <td>-0.160387</td>\n",
              "      <td>1.000000</td>\n",
              "      <td>0.205320</td>\n",
              "      <td>-0.017795</td>\n",
              "      <td>-0.030084</td>\n",
              "      <td>-0.029044</td>\n",
              "    </tr>\n",
              "    <tr>\n",
              "      <th>HUMIDITY</th>\n",
              "      <td>0.190688</td>\n",
              "      <td>-0.118734</td>\n",
              "      <td>0.190859</td>\n",
              "      <td>0.205320</td>\n",
              "      <td>1.000000</td>\n",
              "      <td>-0.008483</td>\n",
              "      <td>0.094423</td>\n",
              "      <td>-0.041414</td>\n",
              "    </tr>\n",
              "    <tr>\n",
              "      <th>ph</th>\n",
              "      <td>0.096683</td>\n",
              "      <td>-0.138019</td>\n",
              "      <td>-0.169503</td>\n",
              "      <td>-0.017795</td>\n",
              "      <td>-0.008483</td>\n",
              "      <td>1.000000</td>\n",
              "      <td>-0.109069</td>\n",
              "      <td>-0.033548</td>\n",
              "    </tr>\n",
              "    <tr>\n",
              "      <th>RAINFALL</th>\n",
              "      <td>0.059020</td>\n",
              "      <td>-0.063839</td>\n",
              "      <td>-0.053461</td>\n",
              "      <td>-0.030084</td>\n",
              "      <td>0.094423</td>\n",
              "      <td>-0.109069</td>\n",
              "      <td>1.000000</td>\n",
              "      <td>0.058847</td>\n",
              "    </tr>\n",
              "    <tr>\n",
              "      <th>CROP_PRICE</th>\n",
              "      <td>-0.001302</td>\n",
              "      <td>-0.023683</td>\n",
              "      <td>-0.021923</td>\n",
              "      <td>-0.029044</td>\n",
              "      <td>-0.041414</td>\n",
              "      <td>-0.033548</td>\n",
              "      <td>0.058847</td>\n",
              "      <td>1.000000</td>\n",
              "    </tr>\n",
              "  </tbody>\n",
              "</table>\n",
              "</div>\n",
              "    <div class=\"colab-df-buttons\">\n",
              "\n",
              "  <div class=\"colab-df-container\">\n",
              "    <button class=\"colab-df-convert\" onclick=\"convertToInteractive('df-83c956f1-081b-4e74-b79c-2f3b9d1bbeef')\"\n",
              "            title=\"Convert this dataframe to an interactive table.\"\n",
              "            style=\"display:none;\">\n",
              "\n",
              "  <svg xmlns=\"http://www.w3.org/2000/svg\" height=\"24px\" viewBox=\"0 -960 960 960\">\n",
              "    <path d=\"M120-120v-720h720v720H120Zm60-500h600v-160H180v160Zm220 220h160v-160H400v160Zm0 220h160v-160H400v160ZM180-400h160v-160H180v160Zm440 0h160v-160H620v160ZM180-180h160v-160H180v160Zm440 0h160v-160H620v160Z\"/>\n",
              "  </svg>\n",
              "    </button>\n",
              "\n",
              "  <style>\n",
              "    .colab-df-container {\n",
              "      display:flex;\n",
              "      gap: 12px;\n",
              "    }\n",
              "\n",
              "    .colab-df-convert {\n",
              "      background-color: #E8F0FE;\n",
              "      border: none;\n",
              "      border-radius: 50%;\n",
              "      cursor: pointer;\n",
              "      display: none;\n",
              "      fill: #1967D2;\n",
              "      height: 32px;\n",
              "      padding: 0 0 0 0;\n",
              "      width: 32px;\n",
              "    }\n",
              "\n",
              "    .colab-df-convert:hover {\n",
              "      background-color: #E2EBFA;\n",
              "      box-shadow: 0px 1px 2px rgba(60, 64, 67, 0.3), 0px 1px 3px 1px rgba(60, 64, 67, 0.15);\n",
              "      fill: #174EA6;\n",
              "    }\n",
              "\n",
              "    .colab-df-buttons div {\n",
              "      margin-bottom: 4px;\n",
              "    }\n",
              "\n",
              "    [theme=dark] .colab-df-convert {\n",
              "      background-color: #3B4455;\n",
              "      fill: #D2E3FC;\n",
              "    }\n",
              "\n",
              "    [theme=dark] .colab-df-convert:hover {\n",
              "      background-color: #434B5C;\n",
              "      box-shadow: 0px 1px 3px 1px rgba(0, 0, 0, 0.15);\n",
              "      filter: drop-shadow(0px 1px 2px rgba(0, 0, 0, 0.3));\n",
              "      fill: #FFFFFF;\n",
              "    }\n",
              "  </style>\n",
              "\n",
              "    <script>\n",
              "      const buttonEl =\n",
              "        document.querySelector('#df-83c956f1-081b-4e74-b79c-2f3b9d1bbeef button.colab-df-convert');\n",
              "      buttonEl.style.display =\n",
              "        google.colab.kernel.accessAllowed ? 'block' : 'none';\n",
              "\n",
              "      async function convertToInteractive(key) {\n",
              "        const element = document.querySelector('#df-83c956f1-081b-4e74-b79c-2f3b9d1bbeef');\n",
              "        const dataTable =\n",
              "          await google.colab.kernel.invokeFunction('convertToInteractive',\n",
              "                                                    [key], {});\n",
              "        if (!dataTable) return;\n",
              "\n",
              "        const docLinkHtml = 'Like what you see? Visit the ' +\n",
              "          '<a target=\"_blank\" href=https://colab.research.google.com/notebooks/data_table.ipynb>data table notebook</a>'\n",
              "          + ' to learn more about interactive tables.';\n",
              "        element.innerHTML = '';\n",
              "        dataTable['output_type'] = 'display_data';\n",
              "        await google.colab.output.renderOutput(dataTable, element);\n",
              "        const docLink = document.createElement('div');\n",
              "        docLink.innerHTML = docLinkHtml;\n",
              "        element.appendChild(docLink);\n",
              "      }\n",
              "    </script>\n",
              "  </div>\n",
              "\n",
              "\n",
              "<div id=\"df-40d23456-f721-4c35-9c52-78741cbb3a60\">\n",
              "  <button class=\"colab-df-quickchart\" onclick=\"quickchart('df-40d23456-f721-4c35-9c52-78741cbb3a60')\"\n",
              "            title=\"Suggest charts.\"\n",
              "            style=\"display:none;\">\n",
              "\n",
              "<svg xmlns=\"http://www.w3.org/2000/svg\" height=\"24px\"viewBox=\"0 0 24 24\"\n",
              "     width=\"24px\">\n",
              "    <g>\n",
              "        <path d=\"M19 3H5c-1.1 0-2 .9-2 2v14c0 1.1.9 2 2 2h14c1.1 0 2-.9 2-2V5c0-1.1-.9-2-2-2zM9 17H7v-7h2v7zm4 0h-2V7h2v10zm4 0h-2v-4h2v4z\"/>\n",
              "    </g>\n",
              "</svg>\n",
              "  </button>\n",
              "\n",
              "<style>\n",
              "  .colab-df-quickchart {\n",
              "      --bg-color: #E8F0FE;\n",
              "      --fill-color: #1967D2;\n",
              "      --hover-bg-color: #E2EBFA;\n",
              "      --hover-fill-color: #174EA6;\n",
              "      --disabled-fill-color: #AAA;\n",
              "      --disabled-bg-color: #DDD;\n",
              "  }\n",
              "\n",
              "  [theme=dark] .colab-df-quickchart {\n",
              "      --bg-color: #3B4455;\n",
              "      --fill-color: #D2E3FC;\n",
              "      --hover-bg-color: #434B5C;\n",
              "      --hover-fill-color: #FFFFFF;\n",
              "      --disabled-bg-color: #3B4455;\n",
              "      --disabled-fill-color: #666;\n",
              "  }\n",
              "\n",
              "  .colab-df-quickchart {\n",
              "    background-color: var(--bg-color);\n",
              "    border: none;\n",
              "    border-radius: 50%;\n",
              "    cursor: pointer;\n",
              "    display: none;\n",
              "    fill: var(--fill-color);\n",
              "    height: 32px;\n",
              "    padding: 0;\n",
              "    width: 32px;\n",
              "  }\n",
              "\n",
              "  .colab-df-quickchart:hover {\n",
              "    background-color: var(--hover-bg-color);\n",
              "    box-shadow: 0 1px 2px rgba(60, 64, 67, 0.3), 0 1px 3px 1px rgba(60, 64, 67, 0.15);\n",
              "    fill: var(--button-hover-fill-color);\n",
              "  }\n",
              "\n",
              "  .colab-df-quickchart-complete:disabled,\n",
              "  .colab-df-quickchart-complete:disabled:hover {\n",
              "    background-color: var(--disabled-bg-color);\n",
              "    fill: var(--disabled-fill-color);\n",
              "    box-shadow: none;\n",
              "  }\n",
              "\n",
              "  .colab-df-spinner {\n",
              "    border: 2px solid var(--fill-color);\n",
              "    border-color: transparent;\n",
              "    border-bottom-color: var(--fill-color);\n",
              "    animation:\n",
              "      spin 1s steps(1) infinite;\n",
              "  }\n",
              "\n",
              "  @keyframes spin {\n",
              "    0% {\n",
              "      border-color: transparent;\n",
              "      border-bottom-color: var(--fill-color);\n",
              "      border-left-color: var(--fill-color);\n",
              "    }\n",
              "    20% {\n",
              "      border-color: transparent;\n",
              "      border-left-color: var(--fill-color);\n",
              "      border-top-color: var(--fill-color);\n",
              "    }\n",
              "    30% {\n",
              "      border-color: transparent;\n",
              "      border-left-color: var(--fill-color);\n",
              "      border-top-color: var(--fill-color);\n",
              "      border-right-color: var(--fill-color);\n",
              "    }\n",
              "    40% {\n",
              "      border-color: transparent;\n",
              "      border-right-color: var(--fill-color);\n",
              "      border-top-color: var(--fill-color);\n",
              "    }\n",
              "    60% {\n",
              "      border-color: transparent;\n",
              "      border-right-color: var(--fill-color);\n",
              "    }\n",
              "    80% {\n",
              "      border-color: transparent;\n",
              "      border-right-color: var(--fill-color);\n",
              "      border-bottom-color: var(--fill-color);\n",
              "    }\n",
              "    90% {\n",
              "      border-color: transparent;\n",
              "      border-bottom-color: var(--fill-color);\n",
              "    }\n",
              "  }\n",
              "</style>\n",
              "\n",
              "  <script>\n",
              "    async function quickchart(key) {\n",
              "      const quickchartButtonEl =\n",
              "        document.querySelector('#' + key + ' button');\n",
              "      quickchartButtonEl.disabled = true;  // To prevent multiple clicks.\n",
              "      quickchartButtonEl.classList.add('colab-df-spinner');\n",
              "      try {\n",
              "        const charts = await google.colab.kernel.invokeFunction(\n",
              "            'suggestCharts', [key], {});\n",
              "      } catch (error) {\n",
              "        console.error('Error during call to suggestCharts:', error);\n",
              "      }\n",
              "      quickchartButtonEl.classList.remove('colab-df-spinner');\n",
              "      quickchartButtonEl.classList.add('colab-df-quickchart-complete');\n",
              "    }\n",
              "    (() => {\n",
              "      let quickchartButtonEl =\n",
              "        document.querySelector('#df-40d23456-f721-4c35-9c52-78741cbb3a60 button');\n",
              "      quickchartButtonEl.style.display =\n",
              "        google.colab.kernel.accessAllowed ? 'block' : 'none';\n",
              "    })();\n",
              "  </script>\n",
              "</div>\n",
              "    </div>\n",
              "  </div>\n"
            ]
          },
          "metadata": {},
          "execution_count": 4
        }
      ]
    },
    {
      "cell_type": "code",
      "source": [
        "sns.heatmap(df.corr(),cmap=\"crest\")"
      ],
      "metadata": {
        "id": "dI2OWBs3UE4v",
        "colab": {
          "base_uri": "https://localhost:8080/",
          "height": 594
        },
        "outputId": "4eb746b7-4d30-4901-a993-8453bbba7058"
      },
      "execution_count": null,
      "outputs": [
        {
          "output_type": "stream",
          "name": "stderr",
          "text": [
            "<ipython-input-5-a72216714ba9>:1: FutureWarning: The default value of numeric_only in DataFrame.corr is deprecated. In a future version, it will default to False. Select only valid columns or specify the value of numeric_only to silence this warning.\n",
            "  sns.heatmap(df.corr(),cmap=\"crest\")\n"
          ]
        },
        {
          "output_type": "execute_result",
          "data": {
            "text/plain": [
              "<Axes: >"
            ]
          },
          "metadata": {},
          "execution_count": 5
        },
        {
          "output_type": "display_data",
          "data": {
            "text/plain": [
              "<Figure size 640x480 with 2 Axes>"
            ],
            "image/png": "[encoded data removed]"
          },
          "metadata": {}
        }
      ]
    },
    {
      "cell_type": "code",
      "source": [
        "df.nunique()"
      ],
      "metadata": {
        "id": "6whUMCX3UTIt",
        "colab": {
          "base_uri": "https://localhost:8080/"
        },
        "outputId": "946819db-4303-4835-daf2-9856bebcc832"
      },
      "execution_count": null,
      "outputs": [
        {
          "output_type": "execute_result",
          "data": {
            "text/plain": [
              "N_SOIL          137\n",
              "P_SOIL          117\n",
              "K_SOIL           73\n",
              "TEMPERATURE    2200\n",
              "HUMIDITY       2200\n",
              "ph             2200\n",
              "RAINFALL       2200\n",
              "STATE            26\n",
              "CROP_PRICE      502\n",
              "CROP             22\n",
              "dtype: int64"
            ]
          },
          "metadata": {},
          "execution_count": 6
        }
      ]
    },
    {
      "cell_type": "code",
      "source": [
        "df.CROP.unique()"
      ],
      "metadata": {
        "id": "tatOuVZXUTS-",
        "colab": {
          "base_uri": "https://localhost:8080/"
        },
        "outputId": "ce7589d6-f489-44e1-a3cf-291468dff9cc"
      },
      "execution_count": null,
      "outputs": [
        {
          "output_type": "execute_result",
          "data": {
            "text/plain": [
              "array(['Rice', 'Maize', 'ChickPea', 'KidneyBeans', 'PigeonPeas',\n",
              "       'MothBeans', 'MungBean', 'Blackgram', 'Lentil', 'Pomegranate',\n",
              "       'Banana', 'Mango', 'Grapes', 'Watermelon', 'Muskmelon', 'Apple',\n",
              "       'Orange', 'Papaya', 'Coconut', 'Cotton', 'Jute', 'Coffee'],\n",
              "      dtype=object)"
            ]
          },
          "metadata": {},
          "execution_count": 7
        }
      ]
    },
    {
      "cell_type": "code",
      "source": [
        "df.drop(['STATE'],axis=1,inplace=True)"
      ],
      "metadata": {
        "id": "UEmkWdGhUWrU"
      },
      "execution_count": null,
      "outputs": []
    },
    {
      "cell_type": "code",
      "source": [
        "df"
      ],
      "metadata": {
        "id": "iZlgHsUNUa8P",
        "colab": {
          "base_uri": "https://localhost:8080/",
          "height": 423
        },
        "outputId": "eb6d3d6f-bd9e-4e5c-e451-a3cf6d66bb7b"
      },
      "execution_count": null,
      "outputs": [
        {
          "output_type": "execute_result",
          "data": {
            "text/plain": [
              "      N_SOIL  P_SOIL  K_SOIL  TEMPERATURE   HUMIDITY        ph    RAINFALL  \\\n",
              "0         90      42      43    20.879744  82.002744  6.502985  202.935536   \n",
              "1         85      58      41    21.770462  80.319644  7.038096  226.655537   \n",
              "2         60      55      44    23.004459  82.320763  7.840207  263.964248   \n",
              "3         74      35      40    26.491096  80.158363  6.980401  242.864034   \n",
              "4         78      42      42    20.130175  81.604873  7.628473  262.717340   \n",
              "...      ...     ...     ...          ...        ...       ...         ...   \n",
              "2195     107      34      32    26.774637  66.413269  6.780064  177.774507   \n",
              "2196      99      15      27    27.417112  56.636362  6.086922  127.924610   \n",
              "2197     118      33      30    24.131797  67.225123  6.362608  173.322839   \n",
              "2198     117      32      34    26.272418  52.127394  6.758793  127.175293   \n",
              "2199     104      18      30    23.603016  60.396475  6.779833  140.937041   \n",
              "\n",
              "      CROP_PRICE    CROP  \n",
              "0           7000    Rice  \n",
              "1           5000    Rice  \n",
              "2           7000    Rice  \n",
              "3           7000    Rice  \n",
              "4         120000    Rice  \n",
              "...          ...     ...  \n",
              "2195        1000  Coffee  \n",
              "2196         800  Coffee  \n",
              "2197         560  Coffee  \n",
              "2198        1500  Coffee  \n",
              "2199        1400  Coffee  \n",
              "\n",
              "[2200 rows x 9 columns]"
            ],
            "text/html": [
              "\n",
              "  <div id=\"df-50f09c4b-244a-4c79-b7d3-81e9dab2d5f2\" class=\"colab-df-container\">\n",
              "    <div>\n",
              "<style scoped>\n",
              "    .dataframe tbody tr th:only-of-type {\n",
              "        vertical-align: middle;\n",
              "    }\n",
              "\n",
              "    .dataframe tbody tr th {\n",
              "        vertical-align: top;\n",
              "    }\n",
              "\n",
              "    .dataframe thead th {\n",
              "        text-align: right;\n",
              "    }\n",
              "</style>\n",
              "<table border=\"1\" class=\"dataframe\">\n",
              "  <thead>\n",
              "    <tr style=\"text-align: right;\">\n",
              "      <th></th>\n",
              "      <th>N_SOIL</th>\n",
              "      <th>P_SOIL</th>\n",
              "      <th>K_SOIL</th>\n",
              "      <th>TEMPERATURE</th>\n",
              "      <th>HUMIDITY</th>\n",
              "      <th>ph</th>\n",
              "      <th>RAINFALL</th>\n",
              "      <th>CROP_PRICE</th>\n",
              "      <th>CROP</th>\n",
              "    </tr>\n",
              "  </thead>\n",
              "  <tbody>\n",
              "    <tr>\n",
              "      <th>0</th>\n",
              "      <td>90</td>\n",
              "      <td>42</td>\n",
              "      <td>43</td>\n",
              "      <td>20.879744</td>\n",
              "      <td>82.002744</td>\n",
              "      <td>6.502985</td>\n",
              "      <td>202.935536</td>\n",
              "      <td>7000</td>\n",
              "      <td>Rice</td>\n",
              "    </tr>\n",
              "    <tr>\n",
              "      <th>1</th>\n",
              "      <td>85</td>\n",
              "      <td>58</td>\n",
              "      <td>41</td>\n",
              "      <td>21.770462</td>\n",
              "      <td>80.319644</td>\n",
              "      <td>7.038096</td>\n",
              "      <td>226.655537</td>\n",
              "      <td>5000</td>\n",
              "      <td>Rice</td>\n",
              "    </tr>\n",
              "    <tr>\n",
              "      <th>2</th>\n",
              "      <td>60</td>\n",
              "      <td>55</td>\n",
              "      <td>44</td>\n",
              "      <td>23.004459</td>\n",
              "      <td>82.320763</td>\n",
              "      <td>7.840207</td>\n",
              "      <td>263.964248</td>\n",
              "      <td>7000</td>\n",
              "      <td>Rice</td>\n",
              "    </tr>\n",
              "    <tr>\n",
              "      <th>3</th>\n",
              "      <td>74</td>\n",
              "      <td>35</td>\n",
              "      <td>40</td>\n",
              "      <td>26.491096</td>\n",
              "      <td>80.158363</td>\n",
              "      <td>6.980401</td>\n",
              "      <td>242.864034</td>\n",
              "      <td>7000</td>\n",
              "      <td>Rice</td>\n",
              "    </tr>\n",
              "    <tr>\n",
              "      <th>4</th>\n",
              "      <td>78</td>\n",
              "      <td>42</td>\n",
              "      <td>42</td>\n",
              "      <td>20.130175</td>\n",
              "      <td>81.604873</td>\n",
              "      <td>7.628473</td>\n",
              "      <td>262.717340</td>\n",
              "      <td>120000</td>\n",
              "      <td>Rice</td>\n",
              "    </tr>\n",
              "    <tr>\n",
              "      <th>...</th>\n",
              "      <td>...</td>\n",
              "      <td>...</td>\n",
              "      <td>...</td>\n",
              "      <td>...</td>\n",
              "      <td>...</td>\n",
              "      <td>...</td>\n",
              "      <td>...</td>\n",
              "      <td>...</td>\n",
              "      <td>...</td>\n",
              "    </tr>\n",
              "    <tr>\n",
              "      <th>2195</th>\n",
              "      <td>107</td>\n",
              "      <td>34</td>\n",
              "      <td>32</td>\n",
              "      <td>26.774637</td>\n",
              "      <td>66.413269</td>\n",
              "      <td>6.780064</td>\n",
              "      <td>177.774507</td>\n",
              "      <td>1000</td>\n",
              "      <td>Coffee</td>\n",
              "    </tr>\n",
              "    <tr>\n",
              "      <th>2196</th>\n",
              "      <td>99</td>\n",
              "      <td>15</td>\n",
              "      <td>27</td>\n",
              "      <td>27.417112</td>\n",
              "      <td>56.636362</td>\n",
              "      <td>6.086922</td>\n",
              "      <td>127.924610</td>\n",
              "      <td>800</td>\n",
              "      <td>Coffee</td>\n",
              "    </tr>\n",
              "    <tr>\n",
              "      <th>2197</th>\n",
              "      <td>118</td>\n",
              "      <td>33</td>\n",
              "      <td>30</td>\n",
              "      <td>24.131797</td>\n",
              "      <td>67.225123</td>\n",
              "      <td>6.362608</td>\n",
              "      <td>173.322839</td>\n",
              "      <td>560</td>\n",
              "      <td>Coffee</td>\n",
              "    </tr>\n",
              "    <tr>\n",
              "      <th>2198</th>\n",
              "      <td>117</td>\n",
              "      <td>32</td>\n",
              "      <td>34</td>\n",
              "      <td>26.272418</td>\n",
              "      <td>52.127394</td>\n",
              "      <td>6.758793</td>\n",
              "      <td>127.175293</td>\n",
              "      <td>1500</td>\n",
              "      <td>Coffee</td>\n",
              "    </tr>\n",
              "    <tr>\n",
              "      <th>2199</th>\n",
              "      <td>104</td>\n",
              "      <td>18</td>\n",
              "      <td>30</td>\n",
              "      <td>23.603016</td>\n",
              "      <td>60.396475</td>\n",
              "      <td>6.779833</td>\n",
              "      <td>140.937041</td>\n",
              "      <td>1400</td>\n",
              "      <td>Coffee</td>\n",
              "    </tr>\n",
              "  </tbody>\n",
              "</table>\n",
              "<p>2200 rows × 9 columns</p>\n",
              "</div>\n",
              "    <div class=\"colab-df-buttons\">\n",
              "\n",
              "  <div class=\"colab-df-container\">\n",
              "    <button class=\"colab-df-convert\" onclick=\"convertToInteractive('df-50f09c4b-244a-4c79-b7d3-81e9dab2d5f2')\"\n",
              "            title=\"Convert this dataframe to an interactive table.\"\n",
              "            style=\"display:none;\">\n",
              "\n",
              "  <svg xmlns=\"http://www.w3.org/2000/svg\" height=\"24px\" viewBox=\"0 -960 960 960\">\n",
              "    <path d=\"M120-120v-720h720v720H120Zm60-500h600v-160H180v160Zm220 220h160v-160H400v160Zm0 220h160v-160H400v160ZM180-400h160v-160H180v160Zm440 0h160v-160H620v160ZM180-180h160v-160H180v160Zm440 0h160v-160H620v160Z\"/>\n",
              "  </svg>\n",
              "    </button>\n",
              "\n",
              "  <style>\n",
              "    .colab-df-container {\n",
              "      display:flex;\n",
              "      gap: 12px;\n",
              "    }\n",
              "\n",
              "    .colab-df-convert {\n",
              "      background-color: #E8F0FE;\n",
              "      border: none;\n",
              "      border-radius: 50%;\n",
              "      cursor: pointer;\n",
              "      display: none;\n",
              "      fill: #1967D2;\n",
              "      height: 32px;\n",
              "      padding: 0 0 0 0;\n",
              "      width: 32px;\n",
              "    }\n",
              "\n",
              "    .colab-df-convert:hover {\n",
              "      background-color: #E2EBFA;\n",
              "      box-shadow: 0px 1px 2px rgba(60, 64, 67, 0.3), 0px 1px 3px 1px rgba(60, 64, 67, 0.15);\n",
              "      fill: #174EA6;\n",
              "    }\n",
              "\n",
              "    .colab-df-buttons div {\n",
              "      margin-bottom: 4px;\n",
              "    }\n",
              "\n",
              "    [theme=dark] .colab-df-convert {\n",
              "      background-color: #3B4455;\n",
              "      fill: #D2E3FC;\n",
              "    }\n",
              "\n",
              "    [theme=dark] .colab-df-convert:hover {\n",
              "      background-color: #434B5C;\n",
              "      box-shadow: 0px 1px 3px 1px rgba(0, 0, 0, 0.15);\n",
              "      filter: drop-shadow(0px 1px 2px rgba(0, 0, 0, 0.3));\n",
              "      fill: #FFFFFF;\n",
              "    }\n",
              "  </style>\n",
              "\n",
              "    <script>\n",
              "      const buttonEl =\n",
              "        document.querySelector('#df-50f09c4b-244a-4c79-b7d3-81e9dab2d5f2 button.colab-df-convert');\n",
              "      buttonEl.style.display =\n",
              "        google.colab.kernel.accessAllowed ? 'block' : 'none';\n",
              "\n",
              "      async function convertToInteractive(key) {\n",
              "        const element = document.querySelector('#df-50f09c4b-244a-4c79-b7d3-81e9dab2d5f2');\n",
              "        const dataTable =\n",
              "          await google.colab.kernel.invokeFunction('convertToInteractive',\n",
              "                                                    [key], {});\n",
              "        if (!dataTable) return;\n",
              "\n",
              "        const docLinkHtml = 'Like what you see? Visit the ' +\n",
              "          '<a target=\"_blank\" href=https://colab.research.google.com/notebooks/data_table.ipynb>data table notebook</a>'\n",
              "          + ' to learn more about interactive tables.';\n",
              "        element.innerHTML = '';\n",
              "        dataTable['output_type'] = 'display_data';\n",
              "        await google.colab.output.renderOutput(dataTable, element);\n",
              "        const docLink = document.createElement('div');\n",
              "        docLink.innerHTML = docLinkHtml;\n",
              "        element.appendChild(docLink);\n",
              "      }\n",
              "    </script>\n",
              "  </div>\n",
              "\n",
              "\n",
              "<div id=\"df-18b463f7-2027-4b55-8b77-46a35fc96286\">\n",
              "  <button class=\"colab-df-quickchart\" onclick=\"quickchart('df-18b463f7-2027-4b55-8b77-46a35fc96286')\"\n",
              "            title=\"Suggest charts.\"\n",
              "            style=\"display:none;\">\n",
              "\n",
              "<svg xmlns=\"http://www.w3.org/2000/svg\" height=\"24px\"viewBox=\"0 0 24 24\"\n",
              "     width=\"24px\">\n",
              "    <g>\n",
              "        <path d=\"M19 3H5c-1.1 0-2 .9-2 2v14c0 1.1.9 2 2 2h14c1.1 0 2-.9 2-2V5c0-1.1-.9-2-2-2zM9 17H7v-7h2v7zm4 0h-2V7h2v10zm4 0h-2v-4h2v4z\"/>\n",
              "    </g>\n",
              "</svg>\n",
              "  </button>\n",
              "\n",
              "<style>\n",
              "  .colab-df-quickchart {\n",
              "      --bg-color: #E8F0FE;\n",
              "      --fill-color: #1967D2;\n",
              "      --hover-bg-color: #E2EBFA;\n",
              "      --hover-fill-color: #174EA6;\n",
              "      --disabled-fill-color: #AAA;\n",
              "      --disabled-bg-color: #DDD;\n",
              "  }\n",
              "\n",
              "  [theme=dark] .colab-df-quickchart {\n",
              "      --bg-color: #3B4455;\n",
              "      --fill-color: #D2E3FC;\n",
              "      --hover-bg-color: #434B5C;\n",
              "      --hover-fill-color: #FFFFFF;\n",
              "      --disabled-bg-color: #3B4455;\n",
              "      --disabled-fill-color: #666;\n",
              "  }\n",
              "\n",
              "  .colab-df-quickchart {\n",
              "    background-color: var(--bg-color);\n",
              "    border: none;\n",
              "    border-radius: 50%;\n",
              "    cursor: pointer;\n",
              "    display: none;\n",
              "    fill: var(--fill-color);\n",
              "    height: 32px;\n",
              "    padding: 0;\n",
              "    width: 32px;\n",
              "  }\n",
              "\n",
              "  .colab-df-quickchart:hover {\n",
              "    background-color: var(--hover-bg-color);\n",
              "    box-shadow: 0 1px 2px rgba(60, 64, 67, 0.3), 0 1px 3px 1px rgba(60, 64, 67, 0.15);\n",
              "    fill: var(--button-hover-fill-color);\n",
              "  }\n",
              "\n",
              "  .colab-df-quickchart-complete:disabled,\n",
              "  .colab-df-quickchart-complete:disabled:hover {\n",
              "    background-color: var(--disabled-bg-color);\n",
              "    fill: var(--disabled-fill-color);\n",
              "    box-shadow: none;\n",
              "  }\n",
              "\n",
              "  .colab-df-spinner {\n",
              "    border: 2px solid var(--fill-color);\n",
              "    border-color: transparent;\n",
              "    border-bottom-color: var(--fill-color);\n",
              "    animation:\n",
              "      spin 1s steps(1) infinite;\n",
              "  }\n",
              "\n",
              "  @keyframes spin {\n",
              "    0% {\n",
              "      border-color: transparent;\n",
              "      border-bottom-color: var(--fill-color);\n",
              "      border-left-color: var(--fill-color);\n",
              "    }\n",
              "    20% {\n",
              "      border-color: transparent;\n",
              "      border-left-color: var(--fill-color);\n",
              "      border-top-color: var(--fill-color);\n",
              "    }\n",
              "    30% {\n",
              "      border-color: transparent;\n",
              "      border-left-color: var(--fill-color);\n",
              "      border-top-color: var(--fill-color);\n",
              "      border-right-color: var(--fill-color);\n",
              "    }\n",
              "    40% {\n",
              "      border-color: transparent;\n",
              "      border-right-color: var(--fill-color);\n",
              "      border-top-color: var(--fill-color);\n",
              "    }\n",
              "    60% {\n",
              "      border-color: transparent;\n",
              "      border-right-color: var(--fill-color);\n",
              "    }\n",
              "    80% {\n",
              "      border-color: transparent;\n",
              "      border-right-color: var(--fill-color);\n",
              "      border-bottom-color: var(--fill-color);\n",
              "    }\n",
              "    90% {\n",
              "      border-color: transparent;\n",
              "      border-bottom-color: var(--fill-color);\n",
              "    }\n",
              "  }\n",
              "</style>\n",
              "\n",
              "  <script>\n",
              "    async function quickchart(key) {\n",
              "      const quickchartButtonEl =\n",
              "        document.querySelector('#' + key + ' button');\n",
              "      quickchartButtonEl.disabled = true;  // To prevent multiple clicks.\n",
              "      quickchartButtonEl.classList.add('colab-df-spinner');\n",
              "      try {\n",
              "        const charts = await google.colab.kernel.invokeFunction(\n",
              "            'suggestCharts', [key], {});\n",
              "      } catch (error) {\n",
              "        console.error('Error during call to suggestCharts:', error);\n",
              "      }\n",
              "      quickchartButtonEl.classList.remove('colab-df-spinner');\n",
              "      quickchartButtonEl.classList.add('colab-df-quickchart-complete');\n",
              "    }\n",
              "    (() => {\n",
              "      let quickchartButtonEl =\n",
              "        document.querySelector('#df-18b463f7-2027-4b55-8b77-46a35fc96286 button');\n",
              "      quickchartButtonEl.style.display =\n",
              "        google.colab.kernel.accessAllowed ? 'block' : 'none';\n",
              "    })();\n",
              "  </script>\n",
              "</div>\n",
              "    </div>\n",
              "  </div>\n"
            ]
          },
          "metadata": {},
          "execution_count": 9
        }
      ]
    },
    {
      "cell_type": "code",
      "source": [
        "df.P_SOIL=np.log(df['P_SOIL'])\n",
        "df.K_SOIL=np.log(df['K_SOIL'])\n",
        "df['HUMIDITY']=np.log(df['HUMIDITY'])"
      ],
      "metadata": {
        "id": "gT57ee2MU8TQ"
      },
      "execution_count": null,
      "outputs": []
    },
    {
      "cell_type": "code",
      "source": [
        "iq1=df['CROP_PRICE'].quantile(0.25)\n",
        "iq2=df['CROP_PRICE'].quantile(0.75)\n",
        "iq1\n",
        "iq2"
      ],
      "metadata": {
        "id": "bIBiMCaSVBYz",
        "colab": {
          "base_uri": "https://localhost:8080/"
        },
        "outputId": "7327089e-5703-4848-aa64-d71c13c0dae9"
      },
      "execution_count": null,
      "outputs": [
        {
          "output_type": "execute_result",
          "data": {
            "text/plain": [
              "3500.0"
            ]
          },
          "metadata": {},
          "execution_count": 10
        }
      ]
    },
    {
      "cell_type": "code",
      "source": [
        "df['CROP_PRICE']=np.where(df['CROP_PRICE']<iq1,iq1,df['CROP_PRICE'])\n",
        "df['CROP_PRICE']=np.where(df['CROP_PRICE']>iq2,iq2,df['CROP_PRICE'])"
      ],
      "metadata": {
        "id": "zF0qQx_kVEUG"
      },
      "execution_count": null,
      "outputs": []
    },
    {
      "cell_type": "code",
      "source": [
        "df"
      ],
      "metadata": {
        "colab": {
          "base_uri": "https://localhost:8080/",
          "height": 424
        },
        "id": "iel2QjwQ2HdI",
        "outputId": "6918ef0a-7d94-4f7a-a192-c15155cb22d3"
      },
      "execution_count": null,
      "outputs": [
        {
          "output_type": "execute_result",
          "data": {
            "text/plain": [
              "      N_SOIL    P_SOIL    K_SOIL  TEMPERATURE  HUMIDITY        ph    RAINFALL  \\\n",
              "0         90  1.318462  1.324738    20.879744  1.483138  6.502985  202.935536   \n",
              "1         85  1.401292  1.311994    21.770462  1.478421  7.038096  226.655537   \n",
              "2         60  1.388126  1.330832    23.004459  1.484016  7.840207  263.964248   \n",
              "3         74  1.268453  1.305323    26.491096  1.477963  6.980401  242.864034   \n",
              "4         78  1.318462  1.318462    20.130175  1.482034  7.628473  262.717340   \n",
              "...      ...       ...       ...          ...       ...       ...         ...   \n",
              "2195     107  1.260266  1.242925    26.774637  1.434107  6.780064  177.774507   \n",
              "2196      99  0.996229  1.192660    27.417112  1.395415  6.086922  127.924610   \n",
              "2197     118  1.251765  1.224128    24.131797  1.436999  6.362608  173.322839   \n",
              "2198     117  1.242925  1.260266    26.272418  1.374649  6.758793  127.175293   \n",
              "2199     104  1.061385  1.224128    23.603016  1.411214  6.779833  140.937041   \n",
              "\n",
              "      CROP_PRICE    CROP  \n",
              "0         3500.0    Rice  \n",
              "1         3500.0    Rice  \n",
              "2         3500.0    Rice  \n",
              "3         3500.0    Rice  \n",
              "4         3500.0    Rice  \n",
              "...          ...     ...  \n",
              "2195      1000.0  Coffee  \n",
              "2196       950.0  Coffee  \n",
              "2197       950.0  Coffee  \n",
              "2198      1500.0  Coffee  \n",
              "2199      1400.0  Coffee  \n",
              "\n",
              "[2200 rows x 9 columns]"
            ],
            "text/html": [
              "\n",
              "  <div id=\"df-a1ab2229-0f6f-41bf-83b5-670547a12c1d\" class=\"colab-df-container\">\n",
              "    <div>\n",
              "<style scoped>\n",
              "    .dataframe tbody tr th:only-of-type {\n",
              "        vertical-align: middle;\n",
              "    }\n",
              "\n",
              "    .dataframe tbody tr th {\n",
              "        vertical-align: top;\n",
              "    }\n",
              "\n",
              "    .dataframe thead th {\n",
              "        text-align: right;\n",
              "    }\n",
              "</style>\n",
              "<table border=\"1\" class=\"dataframe\">\n",
              "  <thead>\n",
              "    <tr style=\"text-align: right;\">\n",
              "      <th></th>\n",
              "      <th>N_SOIL</th>\n",
              "      <th>P_SOIL</th>\n",
              "      <th>K_SOIL</th>\n",
              "      <th>TEMPERATURE</th>\n",
              "      <th>HUMIDITY</th>\n",
              "      <th>ph</th>\n",
              "      <th>RAINFALL</th>\n",
              "      <th>CROP_PRICE</th>\n",
              "      <th>CROP</th>\n",
              "    </tr>\n",
              "  </thead>\n",
              "  <tbody>\n",
              "    <tr>\n",
              "      <th>0</th>\n",
              "      <td>90</td>\n",
              "      <td>1.318462</td>\n",
              "      <td>1.324738</td>\n",
              "      <td>20.879744</td>\n",
              "      <td>1.483138</td>\n",
              "      <td>6.502985</td>\n",
              "      <td>202.935536</td>\n",
              "      <td>3500.0</td>\n",
              "      <td>Rice</td>\n",
              "    </tr>\n",
              "    <tr>\n",
              "      <th>1</th>\n",
              "      <td>85</td>\n",
              "      <td>1.401292</td>\n",
              "      <td>1.311994</td>\n",
              "      <td>21.770462</td>\n",
              "      <td>1.478421</td>\n",
              "      <td>7.038096</td>\n",
              "      <td>226.655537</td>\n",
              "      <td>3500.0</td>\n",
              "      <td>Rice</td>\n",
              "    </tr>\n",
              "    <tr>\n",
              "      <th>2</th>\n",
              "      <td>60</td>\n",
              "      <td>1.388126</td>\n",
              "      <td>1.330832</td>\n",
              "      <td>23.004459</td>\n",
              "      <td>1.484016</td>\n",
              "      <td>7.840207</td>\n",
              "      <td>263.964248</td>\n",
              "      <td>3500.0</td>\n",
              "      <td>Rice</td>\n",
              "    </tr>\n",
              "    <tr>\n",
              "      <th>3</th>\n",
              "      <td>74</td>\n",
              "      <td>1.268453</td>\n",
              "      <td>1.305323</td>\n",
              "      <td>26.491096</td>\n",
              "      <td>1.477963</td>\n",
              "      <td>6.980401</td>\n",
              "      <td>242.864034</td>\n",
              "      <td>3500.0</td>\n",
              "      <td>Rice</td>\n",
              "    </tr>\n",
              "    <tr>\n",
              "      <th>4</th>\n",
              "      <td>78</td>\n",
              "      <td>1.318462</td>\n",
              "      <td>1.318462</td>\n",
              "      <td>20.130175</td>\n",
              "      <td>1.482034</td>\n",
              "      <td>7.628473</td>\n",
              "      <td>262.717340</td>\n",
              "      <td>3500.0</td>\n",
              "      <td>Rice</td>\n",
              "    </tr>\n",
              "    <tr>\n",
              "      <th>...</th>\n",
              "      <td>...</td>\n",
              "      <td>...</td>\n",
              "      <td>...</td>\n",
              "      <td>...</td>\n",
              "      <td>...</td>\n",
              "      <td>...</td>\n",
              "      <td>...</td>\n",
              "      <td>...</td>\n",
              "      <td>...</td>\n",
              "    </tr>\n",
              "    <tr>\n",
              "      <th>2195</th>\n",
              "      <td>107</td>\n",
              "      <td>1.260266</td>\n",
              "      <td>1.242925</td>\n",
              "      <td>26.774637</td>\n",
              "      <td>1.434107</td>\n",
              "      <td>6.780064</td>\n",
              "      <td>177.774507</td>\n",
              "      <td>1000.0</td>\n",
              "      <td>Coffee</td>\n",
              "    </tr>\n",
              "    <tr>\n",
              "      <th>2196</th>\n",
              "      <td>99</td>\n",
              "      <td>0.996229</td>\n",
              "      <td>1.192660</td>\n",
              "      <td>27.417112</td>\n",
              "      <td>1.395415</td>\n",
              "      <td>6.086922</td>\n",
              "      <td>127.924610</td>\n",
              "      <td>950.0</td>\n",
              "      <td>Coffee</td>\n",
              "    </tr>\n",
              "    <tr>\n",
              "      <th>2197</th>\n",
              "      <td>118</td>\n",
              "      <td>1.251765</td>\n",
              "      <td>1.224128</td>\n",
              "      <td>24.131797</td>\n",
              "      <td>1.436999</td>\n",
              "      <td>6.362608</td>\n",
              "      <td>173.322839</td>\n",
              "      <td>950.0</td>\n",
              "      <td>Coffee</td>\n",
              "    </tr>\n",
              "    <tr>\n",
              "      <th>2198</th>\n",
              "      <td>117</td>\n",
              "      <td>1.242925</td>\n",
              "      <td>1.260266</td>\n",
              "      <td>26.272418</td>\n",
              "      <td>1.374649</td>\n",
              "      <td>6.758793</td>\n",
              "      <td>127.175293</td>\n",
              "      <td>1500.0</td>\n",
              "      <td>Coffee</td>\n",
              "    </tr>\n",
              "    <tr>\n",
              "      <th>2199</th>\n",
              "      <td>104</td>\n",
              "      <td>1.061385</td>\n",
              "      <td>1.224128</td>\n",
              "      <td>23.603016</td>\n",
              "      <td>1.411214</td>\n",
              "      <td>6.779833</td>\n",
              "      <td>140.937041</td>\n",
              "      <td>1400.0</td>\n",
              "      <td>Coffee</td>\n",
              "    </tr>\n",
              "  </tbody>\n",
              "</table>\n",
              "<p>2200 rows × 9 columns</p>\n",
              "</div>\n",
              "    <div class=\"colab-df-buttons\">\n",
              "\n",
              "  <div class=\"colab-df-container\">\n",
              "    <button class=\"colab-df-convert\" onclick=\"convertToInteractive('df-a1ab2229-0f6f-41bf-83b5-670547a12c1d')\"\n",
              "            title=\"Convert this dataframe to an interactive table.\"\n",
              "            style=\"display:none;\">\n",
              "\n",
              "  <svg xmlns=\"http://www.w3.org/2000/svg\" height=\"24px\" viewBox=\"0 -960 960 960\">\n",
              "    <path d=\"M120-120v-720h720v720H120Zm60-500h600v-160H180v160Zm220 220h160v-160H400v160Zm0 220h160v-160H400v160ZM180-400h160v-160H180v160Zm440 0h160v-160H620v160ZM180-180h160v-160H180v160Zm440 0h160v-160H620v160Z\"/>\n",
              "  </svg>\n",
              "    </button>\n",
              "\n",
              "  <style>\n",
              "    .colab-df-container {\n",
              "      display:flex;\n",
              "      gap: 12px;\n",
              "    }\n",
              "\n",
              "    .colab-df-convert {\n",
              "      background-color: #E8F0FE;\n",
              "      border: none;\n",
              "      border-radius: 50%;\n",
              "      cursor: pointer;\n",
              "      display: none;\n",
              "      fill: #1967D2;\n",
              "      height: 32px;\n",
              "      padding: 0 0 0 0;\n",
              "      width: 32px;\n",
              "    }\n",
              "\n",
              "    .colab-df-convert:hover {\n",
              "      background-color: #E2EBFA;\n",
              "      box-shadow: 0px 1px 2px rgba(60, 64, 67, 0.3), 0px 1px 3px 1px rgba(60, 64, 67, 0.15);\n",
              "      fill: #174EA6;\n",
              "    }\n",
              "\n",
              "    .colab-df-buttons div {\n",
              "      margin-bottom: 4px;\n",
              "    }\n",
              "\n",
              "    [theme=dark] .colab-df-convert {\n",
              "      background-color: #3B4455;\n",
              "      fill: #D2E3FC;\n",
              "    }\n",
              "\n",
              "    [theme=dark] .colab-df-convert:hover {\n",
              "      background-color: #434B5C;\n",
              "      box-shadow: 0px 1px 3px 1px rgba(0, 0, 0, 0.15);\n",
              "      filter: drop-shadow(0px 1px 2px rgba(0, 0, 0, 0.3));\n",
              "      fill: #FFFFFF;\n",
              "    }\n",
              "  </style>\n",
              "\n",
              "    <script>\n",
              "      const buttonEl =\n",
              "        document.querySelector('#df-a1ab2229-0f6f-41bf-83b5-670547a12c1d button.colab-df-convert');\n",
              "      buttonEl.style.display =\n",
              "        google.colab.kernel.accessAllowed ? 'block' : 'none';\n",
              "\n",
              "      async function convertToInteractive(key) {\n",
              "        const element = document.querySelector('#df-a1ab2229-0f6f-41bf-83b5-670547a12c1d');\n",
              "        const dataTable =\n",
              "          await google.colab.kernel.invokeFunction('convertToInteractive',\n",
              "                                                    [key], {});\n",
              "        if (!dataTable) return;\n",
              "\n",
              "        const docLinkHtml = 'Like what you see? Visit the ' +\n",
              "          '<a target=\"_blank\" href=https://colab.research.google.com/notebooks/data_table.ipynb>data table notebook</a>'\n",
              "          + ' to learn more about interactive tables.';\n",
              "        element.innerHTML = '';\n",
              "        dataTable['output_type'] = 'display_data';\n",
              "        await google.colab.output.renderOutput(dataTable, element);\n",
              "        const docLink = document.createElement('div');\n",
              "        docLink.innerHTML = docLinkHtml;\n",
              "        element.appendChild(docLink);\n",
              "      }\n",
              "    </script>\n",
              "  </div>\n",
              "\n",
              "\n",
              "<div id=\"df-c31b1871-00b5-4f37-a30d-c983ad60bf8a\">\n",
              "  <button class=\"colab-df-quickchart\" onclick=\"quickchart('df-c31b1871-00b5-4f37-a30d-c983ad60bf8a')\"\n",
              "            title=\"Suggest charts.\"\n",
              "            style=\"display:none;\">\n",
              "\n",
              "<svg xmlns=\"http://www.w3.org/2000/svg\" height=\"24px\"viewBox=\"0 0 24 24\"\n",
              "     width=\"24px\">\n",
              "    <g>\n",
              "        <path d=\"M19 3H5c-1.1 0-2 .9-2 2v14c0 1.1.9 2 2 2h14c1.1 0 2-.9 2-2V5c0-1.1-.9-2-2-2zM9 17H7v-7h2v7zm4 0h-2V7h2v10zm4 0h-2v-4h2v4z\"/>\n",
              "    </g>\n",
              "</svg>\n",
              "  </button>\n",
              "\n",
              "<style>\n",
              "  .colab-df-quickchart {\n",
              "      --bg-color: #E8F0FE;\n",
              "      --fill-color: #1967D2;\n",
              "      --hover-bg-color: #E2EBFA;\n",
              "      --hover-fill-color: #174EA6;\n",
              "      --disabled-fill-color: #AAA;\n",
              "      --disabled-bg-color: #DDD;\n",
              "  }\n",
              "\n",
              "  [theme=dark] .colab-df-quickchart {\n",
              "      --bg-color: #3B4455;\n",
              "      --fill-color: #D2E3FC;\n",
              "      --hover-bg-color: #434B5C;\n",
              "      --hover-fill-color: #FFFFFF;\n",
              "      --disabled-bg-color: #3B4455;\n",
              "      --disabled-fill-color: #666;\n",
              "  }\n",
              "\n",
              "  .colab-df-quickchart {\n",
              "    background-color: var(--bg-color);\n",
              "    border: none;\n",
              "    border-radius: 50%;\n",
              "    cursor: pointer;\n",
              "    display: none;\n",
              "    fill: var(--fill-color);\n",
              "    height: 32px;\n",
              "    padding: 0;\n",
              "    width: 32px;\n",
              "  }\n",
              "\n",
              "  .colab-df-quickchart:hover {\n",
              "    background-color: var(--hover-bg-color);\n",
              "    box-shadow: 0 1px 2px rgba(60, 64, 67, 0.3), 0 1px 3px 1px rgba(60, 64, 67, 0.15);\n",
              "    fill: var(--button-hover-fill-color);\n",
              "  }\n",
              "\n",
              "  .colab-df-quickchart-complete:disabled,\n",
              "  .colab-df-quickchart-complete:disabled:hover {\n",
              "    background-color: var(--disabled-bg-color);\n",
              "    fill: var(--disabled-fill-color);\n",
              "    box-shadow: none;\n",
              "  }\n",
              "\n",
              "  .colab-df-spinner {\n",
              "    border: 2px solid var(--fill-color);\n",
              "    border-color: transparent;\n",
              "    border-bottom-color: var(--fill-color);\n",
              "    animation:\n",
              "      spin 1s steps(1) infinite;\n",
              "  }\n",
              "\n",
              "  @keyframes spin {\n",
              "    0% {\n",
              "      border-color: transparent;\n",
              "      border-bottom-color: var(--fill-color);\n",
              "      border-left-color: var(--fill-color);\n",
              "    }\n",
              "    20% {\n",
              "      border-color: transparent;\n",
              "      border-left-color: var(--fill-color);\n",
              "      border-top-color: var(--fill-color);\n",
              "    }\n",
              "    30% {\n",
              "      border-color: transparent;\n",
              "      border-left-color: var(--fill-color);\n",
              "      border-top-color: var(--fill-color);\n",
              "      border-right-color: var(--fill-color);\n",
              "    }\n",
              "    40% {\n",
              "      border-color: transparent;\n",
              "      border-right-color: var(--fill-color);\n",
              "      border-top-color: var(--fill-color);\n",
              "    }\n",
              "    60% {\n",
              "      border-color: transparent;\n",
              "      border-right-color: var(--fill-color);\n",
              "    }\n",
              "    80% {\n",
              "      border-color: transparent;\n",
              "      border-right-color: var(--fill-color);\n",
              "      border-bottom-color: var(--fill-color);\n",
              "    }\n",
              "    90% {\n",
              "      border-color: transparent;\n",
              "      border-bottom-color: var(--fill-color);\n",
              "    }\n",
              "  }\n",
              "</style>\n",
              "\n",
              "  <script>\n",
              "    async function quickchart(key) {\n",
              "      const quickchartButtonEl =\n",
              "        document.querySelector('#' + key + ' button');\n",
              "      quickchartButtonEl.disabled = true;  // To prevent multiple clicks.\n",
              "      quickchartButtonEl.classList.add('colab-df-spinner');\n",
              "      try {\n",
              "        const charts = await google.colab.kernel.invokeFunction(\n",
              "            'suggestCharts', [key], {});\n",
              "      } catch (error) {\n",
              "        console.error('Error during call to suggestCharts:', error);\n",
              "      }\n",
              "      quickchartButtonEl.classList.remove('colab-df-spinner');\n",
              "      quickchartButtonEl.classList.add('colab-df-quickchart-complete');\n",
              "    }\n",
              "    (() => {\n",
              "      let quickchartButtonEl =\n",
              "        document.querySelector('#df-c31b1871-00b5-4f37-a30d-c983ad60bf8a button');\n",
              "      quickchartButtonEl.style.display =\n",
              "        google.colab.kernel.accessAllowed ? 'block' : 'none';\n",
              "    })();\n",
              "  </script>\n",
              "</div>\n",
              "    </div>\n",
              "  </div>\n"
            ]
          },
          "metadata": {},
          "execution_count": 12
        }
      ]
    },
    {
      "cell_type": "code",
      "source": [
        "df.skew()"
      ],
      "metadata": {
        "id": "oFJ7AbHOVFrZ",
        "colab": {
          "base_uri": "https://localhost:8080/"
        },
        "outputId": "4bd67484-9ae7-42f3-c89d-98aa5c7b919a"
      },
      "execution_count": null,
      "outputs": [
        {
          "output_type": "stream",
          "name": "stderr",
          "text": [
            "<ipython-input-13-9e0b1e29546f>:1: FutureWarning: The default value of numeric_only in DataFrame.skew is deprecated. In a future version, it will default to False. In addition, specifying 'numeric_only=None' is deprecated. Select only valid columns or specify the value of numeric_only to silence this warning.\n",
            "  df.skew()\n"
          ]
        },
        {
          "output_type": "execute_result",
          "data": {
            "text/plain": [
              "N_SOIL         0.509721\n",
              "P_SOIL        -0.782108\n",
              "K_SOIL         0.804010\n",
              "TEMPERATURE    0.184933\n",
              "HUMIDITY      -1.900877\n",
              "ph             0.283929\n",
              "RAINFALL       0.965756\n",
              "CROP_PRICE     0.283069\n",
              "dtype: float64"
            ]
          },
          "metadata": {},
          "execution_count": 13
        }
      ]
    },
    {
      "cell_type": "code",
      "source": [
        "#ENCODING CATEGORICAL INTO NUMERICAL¶\n",
        "from sklearn.preprocessing import LabelEncoder\n",
        "le=LabelEncoder()\n",
        "df['CROP']=le.fit_transform(df['CROP'])"
      ],
      "metadata": {
        "id": "aJsKTBh6VIrX"
      },
      "execution_count": null,
      "outputs": []
    },
    {
      "cell_type": "code",
      "source": [
        "#SPLITING OF FEATURES\n",
        "x=df.iloc[:,0:8]\n",
        "y=df.iloc[:,8]\n",
        "y.head()\n"
      ],
      "metadata": {
        "id": "g8KqHlrzVI0Z",
        "colab": {
          "base_uri": "https://localhost:8080/"
        },
        "outputId": "4fa87cb0-a7e2-42dd-89fa-5b19c3422c33"
      },
      "execution_count": null,
      "outputs": [
        {
          "output_type": "execute_result",
          "data": {
            "text/plain": [
              "0    20\n",
              "1    20\n",
              "2    20\n",
              "3    20\n",
              "4    20\n",
              "Name: CROP, dtype: int64"
            ]
          },
          "metadata": {},
          "execution_count": 15
        }
      ]
    },
    {
      "cell_type": "code",
      "source": [
        "le_name_mapping = dict(zip(le.classes_, le.transform(le.classes_)))\n",
        "print(le_name_mapping)"
      ],
      "metadata": {
        "colab": {
          "base_uri": "https://localhost:8080/"
        },
        "id": "NmCWSePBPD9O",
        "outputId": "b2a06428-af5c-478b-f9b8-fb3737f038a4"
      },
      "execution_count": null,
      "outputs": [
        {
          "output_type": "stream",
          "name": "stdout",
          "text": [
            "{'Apple': 0, 'Banana': 1, 'Blackgram': 2, 'ChickPea': 3, 'Coconut': 4, 'Coffee': 5, 'Cotton': 6, 'Grapes': 7, 'Jute': 8, 'KidneyBeans': 9, 'Lentil': 10, 'Maize': 11, 'Mango': 12, 'MothBeans': 13, 'MungBean': 14, 'Muskmelon': 15, 'Orange': 16, 'Papaya': 17, 'PigeonPeas': 18, 'Pomegranate': 19, 'Rice': 20, 'Watermelon': 21}\n"
          ]
        }
      ]
    },
    {
      "cell_type": "code",
      "source": [
        "#TRAIN-TEST-SPLIT\n",
        "\n",
        "from sklearn.model_selection import train_test_split\n",
        "x_train,x_test,y_train,y_test=train_test_split(x,y,train_size=0.7,random_state=4)"
      ],
      "metadata": {
        "id": "T4zFJ6f9VI3_"
      },
      "execution_count": null,
      "outputs": []
    },
    {
      "cell_type": "code",
      "source": [
        "print(\"Training data\",x_train.shape)\n",
        "print(\"Training data\",x_test.shape)"
      ],
      "metadata": {
        "id": "xhE0tY2uVTOr",
        "colab": {
          "base_uri": "https://localhost:8080/"
        },
        "outputId": "c3189850-9a01-4d97-e88a-8135dd07fda7"
      },
      "execution_count": null,
      "outputs": [
        {
          "output_type": "stream",
          "name": "stdout",
          "text": [
            "Training data (1540, 8)\n",
            "Training data (660, 8)\n"
          ]
        }
      ]
    },
    {
      "cell_type": "markdown",
      "source": [
        "#Decision Tree"
      ],
      "metadata": {
        "id": "mUW-Ni36QzxH"
      }
    },
    {
      "cell_type": "code",
      "source": [
        "# Training model\n",
        "from sklearn.tree import DecisionTreeRegressor\n",
        "regressor = DecisionTreeRegressor(random_state = 5)\n",
        "regressor.fit(x_train,y_train)\n",
        "\n",
        "# Predicting results\n",
        "decisiontree_predict = regressor.predict(x_test)\n",
        "decisiontree_predict"
      ],
      "metadata": {
        "colab": {
          "base_uri": "https://localhost:8080/"
        },
        "id": "Ue9PQHr_QwXd",
        "outputId": "596baa87-248b-44b2-8d88-a77dc3497858"
      },
      "execution_count": null,
      "outputs": [
        {
          "output_type": "execute_result",
          "data": {
            "text/plain": [
              "array([20.,  9., 17., 14.,  3., 18., 13., 21.,  5., 13., 13., 21.,  6.,\n",
              "       15.,  1.,  5., 11.,  7.,  0.,  9., 21.,  6.,  4.,  6.,  8., 17.,\n",
              "        8., 15.,  4., 20., 10.,  0.,  8., 20.,  6.,  2.,  0.,  4.,  3.,\n",
              "       20., 17., 21.,  4., 17., 17.,  3.,  8.,  2., 20., 11.,  7., 10.,\n",
              "       21., 14.,  8., 13.,  1., 20.,  0., 11.,  4., 11.,  5., 12.,  7.,\n",
              "        7., 10., 14.,  7., 21., 10.,  4., 21.,  9., 12.,  8.,  4.,  6.,\n",
              "       12.,  7., 15., 18., 13.,  3., 19., 15., 14.,  3.,  0., 14., 18.,\n",
              "       21., 21.,  4.,  4., 15.,  8., 10., 14.,  0.,  2., 19.,  4., 14.,\n",
              "        8.,  7., 10., 18., 18., 17.,  5., 18., 17.,  0., 14., 15.,  7.,\n",
              "        3., 16.,  1., 16., 21.,  5.,  2., 18.,  2.,  8.,  4., 14., 16.,\n",
              "       20.,  2., 13., 15.,  9.,  1., 21.,  0.,  5., 11.,  3.,  8.,  6.,\n",
              "       19.,  3., 17.,  2.,  0., 15.,  1., 17., 18., 20., 12., 19., 21.,\n",
              "        7., 10., 20., 11., 11.,  2.,  3.,  6., 20., 12., 18.,  8.,  1.,\n",
              "        3., 13., 11., 20.,  0., 17., 18., 18., 16., 10., 10., 18.,  7.,\n",
              "       20., 19., 13.,  6., 15.,  3.,  2.,  6.,  0., 11.,  7.,  7.,  3.,\n",
              "        4.,  3.,  2., 11., 19.,  3.,  2., 13.,  6.,  8., 20.,  3., 13.,\n",
              "        5.,  7.,  1., 12.,  8.,  1.,  3.,  9., 21.,  8., 18.,  2., 18.,\n",
              "        7., 18., 17.,  8., 15., 19.,  2., 16.,  7.,  7., 15.,  6., 10.,\n",
              "       16., 11., 12.,  4., 13., 21., 18.,  0.,  5.,  3.,  3., 15., 12.,\n",
              "        2.,  1., 11.,  1.,  3.,  0.,  2., 10., 17., 14., 18., 19.,  4.,\n",
              "        4., 21., 17.,  2.,  5., 13., 18.,  7.,  9.,  8., 19., 21.,  2.,\n",
              "        1., 11., 19.,  7.,  3., 19.,  6., 11., 14.,  9.,  7., 18.,  0.,\n",
              "       12., 12.,  0.,  8.,  8.,  9., 10., 21.,  3., 18., 11.,  8.,  1.,\n",
              "       20., 11.,  6., 12., 20.,  5., 16., 17., 20.,  2.,  1., 17.,  3.,\n",
              "       18.,  9., 12., 13.,  6., 13.,  7.,  9., 11.,  5., 12.,  8., 17.,\n",
              "        5.,  2.,  3.,  5.,  1.,  9.,  1., 13., 19., 16.,  9.,  3.,  5.,\n",
              "        0., 14., 16.,  8., 14.,  4.,  9., 19., 20.,  2., 19., 19., 14.,\n",
              "       15., 10., 13., 20.,  3.,  2.,  8.,  4., 17.,  4.,  3., 19.,  3.,\n",
              "       12., 11., 10., 18.,  6.,  3., 16., 15., 15., 14., 16.,  0., 18.,\n",
              "        3., 10.,  5.,  3.,  5.,  6., 13.,  5., 10., 15.,  8.,  7., 21.,\n",
              "       10.,  5.,  0.,  5.,  6.,  0., 12., 11., 12., 12., 16., 18.,  8.,\n",
              "       21., 11., 10., 15.,  5.,  5.,  7., 11.,  7.,  0.,  1., 19., 16.,\n",
              "       19., 12.,  4., 16.,  9., 11.,  9.,  7.,  2.,  4., 12.,  6.,  5.,\n",
              "        2.,  1., 16., 21., 21.,  8., 20.,  0.,  1.,  2., 16., 18., 15.,\n",
              "        6., 21.,  5.,  9.,  9.,  2.,  5., 12., 13., 15.,  5., 10.,  4.,\n",
              "       17.,  5., 10., 18.,  8.,  8.,  6., 16.,  7., 10., 10.,  6., 11.,\n",
              "       19.,  9., 20., 21.,  6., 14., 15., 12.,  9., 17., 11.,  7.,  1.,\n",
              "       17.,  2., 17., 21., 20., 12.,  5., 19., 13.,  1.,  2.,  2., 18.,\n",
              "        0.,  1., 10., 10.,  8.,  0., 21., 20., 21.,  9., 10., 13., 19.,\n",
              "        9.,  7.,  8., 17.,  4.,  3.,  8., 13., 11., 19.,  9.,  4.,  4.,\n",
              "       17.,  7.,  2., 17., 12.,  8., 11., 14.,  6., 14.,  5.,  7., 12.,\n",
              "       13.,  4.,  4., 19., 16., 16., 15., 21.,  5.,  6., 18.,  2., 19.,\n",
              "        2.,  0., 21.,  4., 21., 10.,  6., 17., 20., 18., 14.,  1., 15.,\n",
              "        0.,  6., 17., 12., 17.,  4.,  2., 16.,  6., 12.,  8., 16.,  3.,\n",
              "        9.,  2., 18., 10., 20., 12., 15., 11., 18.,  9., 16., 16.,  7.,\n",
              "        7., 14.,  1., 18.,  3., 18., 20.,  7., 14., 13., 17.,  2., 11.,\n",
              "        8., 19., 17., 18.,  1., 12., 12., 17., 12., 18.,  2., 16.,  8.,\n",
              "       18., 16., 14.,  8.,  6.,  4., 13., 15., 12.,  0., 20.,  1., 11.,\n",
              "        3., 16.,  4., 17., 16., 15.,  7.,  6., 13., 17., 14., 15., 21.,\n",
              "        7.,  9., 21., 13., 21., 20.,  4.,  8., 14., 19.,  7., 10.,  4.,\n",
              "       13.,  6., 14., 14., 18., 19., 12.,  8., 12., 10.])"
            ]
          },
          "metadata": {},
          "execution_count": 19
        }
      ]
    },
    {
      "cell_type": "code",
      "source": [
        "regressor.score(x_test,y_test)"
      ],
      "metadata": {
        "colab": {
          "base_uri": "https://localhost:8080/"
        },
        "id": "_3gLGPspQwry",
        "outputId": "6f45325d-49c3-4d6e-bbfc-e37e3a9490b9"
      },
      "execution_count": null,
      "outputs": [
        {
          "output_type": "execute_result",
          "data": {
            "text/plain": [
              "0.8952888176109762"
            ]
          },
          "metadata": {},
          "execution_count": 20
        }
      ]
    },
    {
      "cell_type": "code",
      "source": [
        "# Calculating R2 score :\n",
        "\n",
        "from sklearn.metrics import r2_score\n",
        "r1 = r2_score(y_test,decisiontree_predict)\n",
        "print(\"R2 score : \",r1)"
      ],
      "metadata": {
        "colab": {
          "base_uri": "https://localhost:8080/"
        },
        "id": "BBBfr6spQw8Y",
        "outputId": "d6f32b94-3cf4-4ba6-aee9-9972f5973ca9"
      },
      "execution_count": null,
      "outputs": [
        {
          "output_type": "stream",
          "name": "stdout",
          "text": [
            "R2 score :  0.8952888176109762\n"
          ]
        }
      ]
    },
    {
      "cell_type": "code",
      "source": [
        "ax = sns.kdeplot(y_test, color = \"r\", label = \"Actual value \")\n",
        "sns.kdeplot(decisiontree_predict, color = \"b\", label = \"Predicted Values\", ax = ax)\n",
        "plt.title('Decision Tree Regression')\n",
        "plt.legend()"
      ],
      "metadata": {
        "colab": {
          "base_uri": "https://localhost:8080/",
          "height": 489
        },
        "id": "h6k-NKW4RCj3",
        "outputId": "15e158f5-94c0-4d02-d400-44badf4197b6"
      },
      "execution_count": null,
      "outputs": [
        {
          "output_type": "execute_result",
          "data": {
            "text/plain": [
              "<matplotlib.legend.Legend at 0x7d8675248880>"
            ]
          },
          "metadata": {},
          "execution_count": 22
        },
        {
          "output_type": "display_data",
          "data": {
            "text/plain": [
              "<Figure size 640x480 with 1 Axes>"
            ],
            "image/png": "[encoded data removed]"
          },
          "metadata": {}
        }
      ]
    },
    {
      "cell_type": "markdown",
      "source": [
        "#Random Forest Algorithm"
      ],
      "metadata": {
        "id": "MT5oFprfPWiq"
      }
    },
    {
      "cell_type": "code",
      "source": [
        "#Random Forest Algorithm\n",
        "from sklearn.ensemble import RandomForestRegressor\n",
        "modelRT = RandomForestRegressor(n_estimators = 25)\n",
        "modelRT.fit(x_train,y_train)\n",
        "rf_predict = modelRT.predict(x_test)\n",
        "rf_predict"
      ],
      "metadata": {
        "colab": {
          "base_uri": "https://localhost:8080/"
        },
        "id": "Ujff4oahHoqs",
        "outputId": "73570826-9d2a-486e-a26f-8205e61c30ab"
      },
      "execution_count": null,
      "outputs": [
        {
          "output_type": "execute_result",
          "data": {
            "text/plain": [
              "array([17.6 ,  9.16, 17.  , 14.  ,  3.  , 18.  , 13.  , 21.  ,  5.36,\n",
              "       13.04, 13.  , 21.  ,  6.  , 15.  ,  1.  ,  5.  , 11.  ,  7.  ,\n",
              "        0.  ,  9.  , 21.  ,  6.  ,  4.  ,  6.  , 17.  , 16.4 , 17.  ,\n",
              "       15.  ,  4.  , 20.  ,  9.04,  0.  , 13.28, 17.28,  6.  ,  2.36,\n",
              "        0.  ,  4.  ,  2.88, 20.  , 17.  , 21.  ,  4.  , 16.4 , 17.  ,\n",
              "        3.24, 11.8 ,  3.56, 20.  , 10.88,  7.  , 10.  , 21.  , 14.  ,\n",
              "       14.6 , 13.  ,  1.  , 17.  ,  0.  , 10.04,  4.  , 10.88,  5.  ,\n",
              "       12.  ,  7.  ,  7.  ,  9.64, 14.  ,  7.  , 21.  , 10.76,  4.  ,\n",
              "       21.  ,  9.  , 12.  , 17.24,  4.  ,  6.  , 12.  ,  7.  , 15.  ,\n",
              "       17.36, 12.88,  3.24, 19.  , 15.  , 14.  ,  3.8 ,  0.  , 14.  ,\n",
              "       17.  , 19.32, 21.  ,  4.  ,  4.  , 15.  , 10.88, 10.  , 14.  ,\n",
              "        0.  ,  3.08, 17.64,  4.  , 14.  , 10.4 ,  6.84, 10.16, 14.72,\n",
              "       10.72, 17.  ,  5.  , 14.8 , 17.24,  0.  , 14.  , 15.  ,  7.  ,\n",
              "        3.  , 16.  ,  1.  , 16.  , 21.  ,  5.  ,  3.12, 18.  ,  2.  ,\n",
              "        7.76,  4.  , 14.  , 16.  ,  8.72,  4.2 , 12.84, 15.4 ,  8.52,\n",
              "        1.76, 21.  ,  0.  ,  5.  , 10.84,  3.  ,  8.4 ,  6.  , 19.08,\n",
              "        3.  , 17.  ,  2.  ,  0.  , 15.  ,  1.  , 16.64, 18.  , 19.52,\n",
              "       12.  , 19.  , 21.  ,  7.  , 10.  , 17.6 , 11.  , 10.68,  2.64,\n",
              "        3.  ,  6.  , 20.04, 12.  , 17.28,  7.76,  1.64,  3.  ,  9.76,\n",
              "       11.  , 19.52,  0.  , 17.  , 13.92, 17.36, 16.  ,  9.16,  9.68,\n",
              "       15.36,  7.  , 20.  , 17.12, 13.  ,  6.  , 15.  ,  3.  ,  9.48,\n",
              "        6.2 ,  0.  , 10.64,  7.  ,  7.  ,  3.  ,  4.  ,  3.  ,  2.64,\n",
              "       11.  , 19.  ,  3.  ,  5.36, 12.  ,  6.  ,  8.  , 19.52,  3.24,\n",
              "       12.84,  5.24,  7.  ,  1.  , 12.  ,  8.  ,  1.4 ,  2.96,  9.72,\n",
              "       21.  ,  8.  , 16.92,  3.6 , 17.08,  7.  , 16.76, 17.24, 17.72,\n",
              "       15.  , 19.  ,  2.64, 16.  ,  7.  ,  6.4 , 15.  ,  7.16,  9.48,\n",
              "       16.  , 10.56, 12.  ,  4.48, 12.96, 21.  , 18.  ,  0.  ,  5.88,\n",
              "        3.  ,  3.  , 15.  , 12.  ,  2.  ,  1.  , 10.52,  1.  ,  3.24,\n",
              "        0.  ,  3.24,  9.96, 15.76, 14.  , 16.08, 19.  ,  4.  ,  4.  ,\n",
              "       21.  , 16.64, 13.  ,  5.  , 12.48, 16.76,  7.  ,  9.72,  8.  ,\n",
              "       19.  , 21.  ,  3.56,  1.  , 10.76, 17.64,  6.84,  3.64, 18.6 ,\n",
              "        6.  , 11.  , 13.84,  9.  ,  7.  , 18.  ,  0.  , 12.04, 12.  ,\n",
              "        0.  ,  9.12, 11.84,  9.  ,  9.68, 21.  ,  3.24, 18.  , 10.96,\n",
              "        9.92,  1.  , 16.88, 10.28,  6.  , 12.  , 20.  ,  5.24, 16.  ,\n",
              "       17.  , 16.64,  2.  ,  1.  , 17.  ,  3.  , 17.24,  9.  , 12.  ,\n",
              "       13.2 ,  6.  , 13.  ,  7.  ,  9.  , 11.  ,  5.  , 12.  ,  8.  ,\n",
              "       17.  ,  5.12,  8.96,  3.4 ,  5.56,  1.  ,  9.  ,  1.  , 12.56,\n",
              "       19.  , 16.  ,  9.  ,  6.84,  5.  ,  0.  , 14.  , 16.24,  9.8 ,\n",
              "       14.  ,  4.  ,  8.72, 19.  , 20.  ,  4.04, 19.  , 19.  , 14.  ,\n",
              "       15.  , 10.32, 13.12, 19.64,  3.  ,  2.  ,  8.  ,  4.48, 17.  ,\n",
              "        4.  ,  3.4 , 19.  ,  3.  , 11.44,  9.4 ,  9.68, 15.56,  7.96,\n",
              "        3.  , 16.  , 15.  , 15.  , 14.  , 16.  ,  0.  , 16.92,  3.  ,\n",
              "        9.36,  5.  ,  3.24,  5.12,  6.  , 13.  ,  5.  , 10.  , 15.  ,\n",
              "       14.48,  7.  , 21.  , 10.  ,  5.04,  0.  ,  9.44,  6.4 ,  0.  ,\n",
              "       12.  ,  9.12, 12.  , 12.  , 16.  , 17.04,  8.  , 21.  , 10.64,\n",
              "        9.8 , 15.  ,  5.  ,  5.  ,  7.  , 11.  ,  7.  ,  0.  ,  1.  ,\n",
              "       19.  , 16.  , 19.  , 12.  ,  4.  , 16.  ,  9.36, 11.  ,  9.  ,\n",
              "        6.68,  3.04,  4.  , 12.08,  6.  ,  5.  ,  2.64,  1.  , 16.  ,\n",
              "       21.  , 21.  ,  8.  , 19.52,  0.  ,  1.  ,  3.24, 16.  , 16.4 ,\n",
              "       15.  ,  6.4 , 21.  ,  5.  ,  9.  ,  9.  ,  3.6 ,  5.  , 11.16,\n",
              "       12.88, 15.  ,  5.  , 10.  ,  4.  , 17.08,  5.  , 10.  , 17.28,\n",
              "       11.72,  8.  ,  6.  , 16.  ,  7.  , 10.  ,  9.64,  6.2 , 11.  ,\n",
              "       19.  ,  9.  , 18.8 , 21.  ,  6.  , 14.  , 15.  , 12.  ,  9.  ,\n",
              "       17.  , 11.  ,  7.  ,  1.  , 16.64,  2.68, 17.32, 21.  , 18.56,\n",
              "       12.  ,  5.  , 19.  , 13.  ,  1.  ,  2.64,  5.56, 18.  ,  0.  ,\n",
              "        1.  ,  9.8 , 10.  ,  8.  ,  0.  , 21.  , 17.12, 21.  ,  8.44,\n",
              "       10.  , 12.68, 19.  , 10.08,  7.  ,  8.96, 17.  ,  4.  ,  2.84,\n",
              "        8.96, 13.  ,  9.4 , 19.  ,  8.72,  4.  ,  4.48, 15.76,  7.  ,\n",
              "        2.  , 16.36, 12.  ,  9.8 ,  9.76, 14.  ,  6.  , 14.  ,  5.  ,\n",
              "        7.  , 12.  , 12.84,  4.  ,  4.  , 19.04, 16.  , 16.  , 15.  ,\n",
              "       21.  ,  5.  ,  6.  , 17.32,  3.48, 19.  ,  2.  ,  0.  , 21.  ,\n",
              "        4.  , 21.  , 10.  ,  6.32, 16.4 , 20.  , 16.96, 13.84,  1.  ,\n",
              "       15.  ,  0.  ,  6.  , 14.44, 12.24, 17.  ,  4.  ,  3.56, 16.  ,\n",
              "        6.  , 12.  ,  8.  , 15.92,  3.64,  9.72,  2.  , 16.96,  9.36,\n",
              "       19.88, 11.72, 15.  , 10.8 , 18.  ,  9.04, 16.  , 16.  ,  7.  ,\n",
              "        7.  , 14.  ,  1.  , 17.24,  3.16, 16.64, 19.52,  7.  , 14.  ,\n",
              "       12.84, 13.8 ,  3.2 ,  3.4 ,  7.88, 19.  , 17.  , 15.52,  1.  ,\n",
              "       12.28, 12.  , 15.68, 12.  , 17.36,  2.  , 16.  ,  8.  , 17.36,\n",
              "       16.  , 14.  , 10.2 ,  6.  ,  4.  ,  5.4 , 15.  , 12.  ,  0.  ,\n",
              "       17.6 ,  1.  , 10.24,  6.24, 16.  ,  4.  , 17.72, 16.  , 15.  ,\n",
              "        7.  ,  6.  , 12.68, 17.  , 14.  , 15.  , 21.  ,  7.  ,  9.  ,\n",
              "       21.  , 11.28, 21.  , 17.  ,  4.  , 12.04, 14.  , 19.  ,  7.  ,\n",
              "       10.72,  4.  , 10.4 ,  6.  , 14.  , 14.  , 15.04, 19.  , 12.  ,\n",
              "       10.4 , 12.  , 10.  ])"
            ]
          },
          "metadata": {},
          "execution_count": 23
        }
      ]
    },
    {
      "cell_type": "code",
      "source": [
        "# Calculating R2 score\n",
        "modelRT.score(x_test,y_test)\n",
        "from sklearn.metrics import r2_score\n",
        "r2 = r2_score(y_test,rf_predict)\n",
        "print(\"R2 score : \",r2)"
      ],
      "metadata": {
        "colab": {
          "base_uri": "https://localhost:8080/"
        },
        "id": "vZRlQaFeHx6G",
        "outputId": "c343ee84-bd02-47e2-b558-ee9bfff21343"
      },
      "execution_count": null,
      "outputs": [
        {
          "output_type": "stream",
          "name": "stdout",
          "text": [
            "R2 score :  0.9498979874162212\n"
          ]
        }
      ]
    },
    {
      "cell_type": "code",
      "source": [
        "ax = sns.kdeplot(y_test, color = \"r\", label = \"Actual value \")\n",
        "sns.kdeplot(rf_predict, color = \"b\", label = \"Predicted Values\", ax = ax)\n",
        "plt.title('Random Forest Regression')\n",
        "plt.legend()"
      ],
      "metadata": {
        "colab": {
          "base_uri": "https://localhost:8080/",
          "height": 489
        },
        "id": "snWlfheQIJQd",
        "outputId": "6a66917a-115e-4fe6-99ea-947dcd16461c"
      },
      "execution_count": null,
      "outputs": [
        {
          "output_type": "execute_result",
          "data": {
            "text/plain": [
              "<matplotlib.legend.Legend at 0x7d862cc96d70>"
            ]
          },
          "metadata": {},
          "execution_count": 25
        },
        {
          "output_type": "display_data",
          "data": {
            "text/plain": [
              "<Figure size 640x480 with 1 Axes>"
            ],
            "image/png": "[encoded data removed]"
          },
          "metadata": {}
        }
      ]
    },
    {
      "cell_type": "markdown",
      "source": [
        "#Support Vector Regression"
      ],
      "metadata": {
        "id": "bfbguvQnPRgk"
      }
    },
    {
      "cell_type": "code",
      "source": [
        "# Feature Scaling\n",
        "\n",
        "from sklearn.preprocessing import StandardScaler\n",
        "sc = StandardScaler()\n",
        "x_train = sc.fit_transform(x_train)\n",
        "x_test = sc.fit_transform(x_test)"
      ],
      "metadata": {
        "id": "z0wgdymIIjGH"
      },
      "execution_count": null,
      "outputs": []
    },
    {
      "cell_type": "code",
      "source": [
        "print(x_train)\n",
        "print(x_test)"
      ],
      "metadata": {
        "colab": {
          "base_uri": "https://localhost:8080/"
        },
        "id": "BSv3foLzQDP9",
        "outputId": "78151cdd-2947-4911-825b-93af43963fb6"
      },
      "execution_count": null,
      "outputs": [
        {
          "output_type": "stream",
          "name": "stdout",
          "text": [
            "[[ 0.9785182  -0.84965018 -0.27249389 ...  0.67391741  1.67716497\n",
            "   1.32476675]\n",
            " [-0.28900059 -0.9751141  -1.95416164 ...  1.24312164 -0.0116784\n",
            "  -0.2666639 ]\n",
            " [-1.3407715   0.79876649 -0.79301757 ...  0.27205096  1.37449398\n",
            "   1.32476675]\n",
            " ...\n",
            " [-0.01931574  0.76198692 -0.9423232  ...  0.10523333 -0.53446189\n",
            "   1.32476675]\n",
            " [ 0.68186487 -0.12136482 -0.47942068 ...  0.69498292 -0.7117482\n",
            "   1.13186606]\n",
            " [-0.39687453 -1.11314443 -0.09324574 ... -1.96574654 -0.19278675\n",
            "   1.32476675]]\n",
            "[[ 0.87203155  0.14240522  0.03355219 ... -0.18035825  1.55999325\n",
            "   0.23168464]\n",
            " [-0.44292678  0.42507472 -0.904007   ... -0.96138836 -0.3054747\n",
            "   0.63425224]\n",
            " [-0.0320023   0.47074378  0.33537883 ...  0.34910339  2.39468243\n",
            "  -1.03493048]\n",
            " ...\n",
            " [ 1.33774596 -0.07353772  0.03355219 ...  0.31626565  1.37127445\n",
            "  -1.03493048]\n",
            " [-1.34696063 -0.54791702 -0.25891378 ... -0.56582604 -0.20187596\n",
            "  -0.98583687]\n",
            " [-1.23738077  0.55775363 -0.83087503 ...  0.62421456 -0.99224334\n",
            "  -1.03493048]]\n"
          ]
        }
      ]
    },
    {
      "cell_type": "code",
      "source": [
        "# Training the SVR model\n",
        "\n",
        "from sklearn.svm import SVR\n",
        "regressor = SVR(kernel = 'rbf')\n",
        "regressor.fit(x_train,y_train)"
      ],
      "metadata": {
        "colab": {
          "base_uri": "https://localhost:8080/",
          "height": 74
        },
        "id": "YNuRFRwLQE8y",
        "outputId": "a9837ace-cb93-473e-d3a2-8f354374181d"
      },
      "execution_count": null,
      "outputs": [
        {
          "output_type": "execute_result",
          "data": {
            "text/plain": [
              "SVR()"
            ],
            "text/html": [
              "<style>#sk-container-id-1 {color: black;background-color: white;}#sk-container-id-1 pre{padding: 0;}#sk-container-id-1 div.sk-toggleable {background-color: white;}#sk-container-id-1 label.sk-toggleable__label {cursor: pointer;display: block;width: 100%;margin-bottom: 0;padding: 0.3em;box-sizing: border-box;text-align: center;}#sk-container-id-1 label.sk-toggleable__label-arrow:before {content: \"▸\";float: left;margin-right: 0.25em;color: #696969;}#sk-container-id-1 label.sk-toggleable__label-arrow:hover:before {color: black;}#sk-container-id-1 div.sk-estimator:hover label.sk-toggleable__label-arrow:before {color: black;}#sk-container-id-1 div.sk-toggleable__content {max-height: 0;max-width: 0;overflow: hidden;text-align: left;background-color: #f0f8ff;}#sk-container-id-1 div.sk-toggleable__content pre {margin: 0.2em;color: black;border-radius: 0.25em;background-color: #f0f8ff;}#sk-container-id-1 input.sk-toggleable__control:checked~div.sk-toggleable__content {max-height: 200px;max-width: 100%;overflow: auto;}#sk-container-id-1 input.sk-toggleable__control:checked~label.sk-toggleable__label-arrow:before {content: \"▾\";}#sk-container-id-1 div.sk-estimator input.sk-toggleable__control:checked~label.sk-toggleable__label {background-color: #d4ebff;}#sk-container-id-1 div.sk-label input.sk-toggleable__control:checked~label.sk-toggleable__label {background-color: #d4ebff;}#sk-container-id-1 input.sk-hidden--visually {border: 0;clip: rect(1px 1px 1px 1px);clip: rect(1px, 1px, 1px, 1px);height: 1px;margin: -1px;overflow: hidden;padding: 0;position: absolute;width: 1px;}#sk-container-id-1 div.sk-estimator {font-family: monospace;background-color: #f0f8ff;border: 1px dotted black;border-radius: 0.25em;box-sizing: border-box;margin-bottom: 0.5em;}#sk-container-id-1 div.sk-estimator:hover {background-color: #d4ebff;}#sk-container-id-1 div.sk-parallel-item::after {content: \"\";width: 100%;border-bottom: 1px solid gray;flex-grow: 1;}#sk-container-id-1 div.sk-label:hover label.sk-toggleable__label {background-color: #d4ebff;}#sk-container-id-1 div.sk-serial::before {content: \"\";position: absolute;border-left: 1px solid gray;box-sizing: border-box;top: 0;bottom: 0;left: 50%;z-index: 0;}#sk-container-id-1 div.sk-serial {display: flex;flex-direction: column;align-items: center;background-color: white;padding-right: 0.2em;padding-left: 0.2em;position: relative;}#sk-container-id-1 div.sk-item {position: relative;z-index: 1;}#sk-container-id-1 div.sk-parallel {display: flex;align-items: stretch;justify-content: center;background-color: white;position: relative;}#sk-container-id-1 div.sk-item::before, #sk-container-id-1 div.sk-parallel-item::before {content: \"\";position: absolute;border-left: 1px solid gray;box-sizing: border-box;top: 0;bottom: 0;left: 50%;z-index: -1;}#sk-container-id-1 div.sk-parallel-item {display: flex;flex-direction: column;z-index: 1;position: relative;background-color: white;}#sk-container-id-1 div.sk-parallel-item:first-child::after {align-self: flex-end;width: 50%;}#sk-container-id-1 div.sk-parallel-item:last-child::after {align-self: flex-start;width: 50%;}#sk-container-id-1 div.sk-parallel-item:only-child::after {width: 0;}#sk-container-id-1 div.sk-dashed-wrapped {border: 1px dashed gray;margin: 0 0.4em 0.5em 0.4em;box-sizing: border-box;padding-bottom: 0.4em;background-color: white;}#sk-container-id-1 div.sk-label label {font-family: monospace;font-weight: bold;display: inline-block;line-height: 1.2em;}#sk-container-id-1 div.sk-label-container {text-align: center;}#sk-container-id-1 div.sk-container {/* jupyter's `normalize.less` sets `[hidden] { display: none; }` but bootstrap.min.css set `[hidden] { display: none !important; }` so we also need the `!important` here to be able to override the default hidden behavior on the sphinx rendered scikit-learn.org. See: https://github.com/scikit-learn/scikit-learn/issues/21755 */display: inline-block !important;position: relative;}#sk-container-id-1 div.sk-text-repr-fallback {display: none;}</style><div id=\"sk-container-id-1\" class=\"sk-top-container\"><div class=\"sk-text-repr-fallback\"><pre>SVR()</pre><b>In a Jupyter environment, please rerun this cell to show the HTML representation or trust the notebook. <br />On GitHub, the HTML representation is unable to render, please try loading this page with nbviewer.org.</b></div><div class=\"sk-container\" hidden><div class=\"sk-item\"><div class=\"sk-estimator sk-toggleable\"><input class=\"sk-toggleable__control sk-hidden--visually\" id=\"sk-estimator-id-1\" type=\"checkbox\" checked><label for=\"sk-estimator-id-1\" class=\"sk-toggleable__label sk-toggleable__label-arrow\">SVR</label><div class=\"sk-toggleable__content\"><pre>SVR()</pre></div></div></div></div></div>"
            ]
          },
          "metadata": {},
          "execution_count": 28
        }
      ]
    },
    {
      "cell_type": "code",
      "source": [
        "# Predicting Result\n",
        "\n",
        "svr_predict = regressor.predict(x_test)\n",
        "svr_predict"
      ],
      "metadata": {
        "colab": {
          "base_uri": "https://localhost:8080/"
        },
        "id": "1DWgk1lmQICh",
        "outputId": "d514f906-f912-49e1-89e7-3229b63463a4"
      },
      "execution_count": null,
      "outputs": [
        {
          "output_type": "execute_result",
          "data": {
            "text/plain": [
              "array([10.53804689,  9.36011404, 15.77834032, 14.44475821,  3.04282463,\n",
              "       15.91438841, 12.84983016, 17.30651994,  6.5934732 , 13.59481794,\n",
              "       11.7746015 , 13.62983216,  6.23173802, 16.81164401,  2.23175825,\n",
              "        6.70300056,  9.74067027,  7.63784706,  4.06160401,  9.01784302,\n",
              "       19.4439943 ,  5.48383444,  6.56544459,  5.946663  , 17.1589807 ,\n",
              "       11.80519729, 16.38506902, 15.60967961,  9.61147479, 14.75629228,\n",
              "       10.16990223,  0.5852395 ,  9.79077746, 11.02319064,  6.39753934,\n",
              "        8.84862469,  0.55566329,  9.81145599,  4.08636039, 14.05125511,\n",
              "       14.39406234, 20.6106366 , 10.16752802, 11.5409692 , 13.82925892,\n",
              "        3.81357181,  5.98615461, 10.84006904, 16.3138787 ,  9.88167844,\n",
              "        4.23126296, 10.60728455, 16.25532783, 15.12277774,  8.49500526,\n",
              "       13.05340129,  2.43295726,  9.23205396,  4.30587885,  4.7249547 ,\n",
              "        7.96725516, 10.07096698,  4.89776792, 11.94418273,  5.70294642,\n",
              "        6.60726329, 11.33833406, 13.99922677,  5.00916866, 16.26420014,\n",
              "       10.76089009, 11.67306333, 17.97845311,  9.87828275, 12.44190487,\n",
              "       11.97463618,  8.607962  ,  6.64317563, 12.3384037 ,  6.54973478,\n",
              "       17.06650536, 15.43702125, 10.72325798,  4.00240904, 18.6556262 ,\n",
              "       12.46889043, 14.57599384,  3.73177626,  0.42496201, 13.1204788 ,\n",
              "       17.28263207, 16.30736954, 19.79524401,  8.72397592,  5.5268936 ,\n",
              "       14.34175932, 10.31227875, 10.66431977, 13.56872405,  0.99009821,\n",
              "        8.96201602, 17.87883357,  3.04681233, 12.7883999 , 10.91233102,\n",
              "        5.00054659,  9.61436102, 14.42448745, 11.51812509, 14.19168641,\n",
              "        5.98510927, 16.92091079, 17.899598  ,  0.26393345, 13.16606707,\n",
              "       17.61293771,  5.86889847,  3.81704606, 16.51944211,  2.02384338,\n",
              "       16.7454918 , 16.5080975 ,  6.6642573 ,  7.96083211, 16.23993664,\n",
              "        9.31859531,  8.82001576,  5.69022077, 14.4709581 , 16.72616637,\n",
              "       10.64438458,  9.48293606, 12.58641656, 20.64568946,  9.02037287,\n",
              "        3.33337976, 18.97571842,  1.857011  ,  4.66394883, 10.93444211,\n",
              "        3.23546598,  5.23851775,  5.54864748, 17.5287436 ,  3.07267705,\n",
              "       15.91040781,  7.45805647,  0.42527145, 17.55719911,  1.89958076,\n",
              "       12.16319399, 10.64230182, 18.32269103, 11.99799223, 18.00627562,\n",
              "       16.52677928,  6.59600749, 10.74747159,  8.86349698, 10.34021972,\n",
              "        9.32184472, 10.43477214,  2.63841617,  7.33743126, 11.98134711,\n",
              "       12.14412993, 14.7505139 , 10.47602307,  6.08942952,  3.73123196,\n",
              "        9.17134769,  8.2461422 , 15.76970488,  0.38571785, 12.57364814,\n",
              "       12.15505221, 13.52341696, 15.3511662 , 10.65269845, 10.60176514,\n",
              "       15.53018882,  6.64344489, 14.65431805, 15.97027767, 12.81766365,\n",
              "        7.27505461, 14.61145354,  2.52670654, 10.20729385,  6.78928852,\n",
              "        0.04066106,  8.86230257,  8.24067545,  4.63991733,  2.95471413,\n",
              "        9.81761891,  2.91705234, 10.4220298 , 11.5849095 , 18.21320685,\n",
              "        3.0323986 , 10.81253196, 10.21659526,  5.03684094,  9.17341042,\n",
              "       15.7843571 ,  3.71449083, 12.87366464,  6.74002749,  5.01374624,\n",
              "        2.1629334 , 11.28843641,  5.63723034,  4.62836732,  3.57539047,\n",
              "        8.68887035, 18.8676914 , 11.41503368, 16.95034476,  8.03660063,\n",
              "       13.28208877,  3.27947625, 15.55983789, 14.37141699, 13.52005205,\n",
              "       15.1929539 , 19.0165065 , 10.30074979, 16.34112474,  4.74947501,\n",
              "        4.66970834, 13.50029227,  7.06552979, 10.83597068, 15.11563408,\n",
              "        8.53383403, 12.5997791 ,  9.17597472, 12.49870218, 19.74825147,\n",
              "       17.02181647,  0.6037042 ,  6.0950429 ,  3.53946223,  3.78074124,\n",
              "       12.64479284, 12.54630229,  8.46378504,  1.17723982,  7.16120953,\n",
              "        1.47317766,  3.66573607,  0.1689301 , 10.27988006,  9.45756836,\n",
              "       11.93281448, 13.50924505, 12.37593286, 19.62590545,  8.0378239 ,\n",
              "        9.05567955, 15.15707811, 16.7509103 , 13.77797135,  4.05179457,\n",
              "       11.92307082, 12.56395177,  6.11665488, 10.20252016,  8.82311753,\n",
              "       18.50417294, 17.08133043,  9.07333358,  3.13923478, 12.38767298,\n",
              "       18.5233877 ,  6.98217162,  3.91106294, 14.57678788,  7.67726794,\n",
              "       10.38194402, 13.13616546,  9.34656661,  6.25155548, 16.16781832,\n",
              "        0.64164746, 11.24469776, 13.32365709,  1.17035472, 10.89172244,\n",
              "       11.74510771,  9.21462792,  9.04059427, 17.4103043 ,  3.93343063,\n",
              "       14.9177388 , 14.05644474,  8.82585873,  0.83133403, 16.82902665,\n",
              "       10.68601558,  4.75868137, 11.18074708, 15.55348021,  9.87255987,\n",
              "       15.56130302, 12.82423282, 10.50229077,  7.65357752,  1.60526015,\n",
              "       14.0712554 ,  2.67876836, 16.65621712, 10.29712309, 13.0273127 ,\n",
              "       12.29667899,  5.53913771, 12.37417825,  7.25728184,  8.40684981,\n",
              "       13.93024482,  5.03731004, 11.56548959,  8.07290304, 18.08049846,\n",
              "        6.93654487, 10.91704549,  4.36921893,  6.13351624,  1.94159411,\n",
              "       10.04079824,  0.79885584, 11.72433848, 18.07722476, 15.14520216,\n",
              "       10.15010593,  9.03687614,  5.7841574 ,  1.2907088 , 15.00662295,\n",
              "       16.62814319, 13.63981892, 14.37492341,  5.66994109,  8.35918836,\n",
              "       17.47702585, 17.94315725, 11.05834322, 19.26345665, 18.65498823,\n",
              "       14.01480211, 16.96611187,  8.43451342, 13.0745401 , 17.1455358 ,\n",
              "        3.90109243,  9.92493621,  8.2312718 ,  9.263917  , 13.81527575,\n",
              "       12.11988365,  3.86276501, 17.77417957,  3.0932161 , 12.11986832,\n",
              "        7.87174089, 10.54657649, 12.01462733,  8.9546392 ,  2.59581977,\n",
              "       15.92796632, 16.56030734, 15.85256476, 13.94939845, 16.84938135,\n",
              "        0.18381892, 16.96038668,  2.9458315 ,  9.01616613,  6.0528299 ,\n",
              "        4.25118302,  6.50126459,  5.44776625, 12.21623967,  6.35678627,\n",
              "       10.56271003, 19.07146208, 14.87004983,  8.60650158, 14.68776695,\n",
              "       12.06026644,  3.93595403,  0.95794293,  9.90045285,  8.26129435,\n",
              "        0.31286279, 12.63325103, 10.34022902, 12.32568617, 11.51891428,\n",
              "       16.16498536, 16.92334594, 10.93281639, 17.65242547,  8.40841058,\n",
              "        9.77337493, 16.89548828,  5.58098431,  6.43747706,  7.33125784,\n",
              "       12.34484813,  6.81920317,  0.34371571,  0.51663478, 18.96848124,\n",
              "       15.84665165, 16.95664615, 11.50382413, 11.97673521, 15.90958713,\n",
              "       10.31141751, 13.03783266,  8.60237165,  8.78332431, 11.9689025 ,\n",
              "        6.01864402, 10.30136462,  6.78216431,  4.24458171,  7.59746886,\n",
              "        0.36198176, 16.40220476, 14.79903282, 17.78380485,  7.7072824 ,\n",
              "       13.82841272,  4.91358385,  2.6981926 ,  8.86838109, 13.80997973,\n",
              "       13.19271288, 16.98074465,  5.37054572, 18.68531765,  7.07669132,\n",
              "        8.50443316,  8.81481184, 11.09334039,  6.74806113, 11.18267616,\n",
              "       11.45726143, 17.15283888,  7.95843218,  9.88556153,  7.7486384 ,\n",
              "       16.10153936,  5.17427356, 11.8312144 , 16.54373593,  9.68507147,\n",
              "        7.94714115,  5.74829463, 14.90925704,  6.6424141 ,  9.37443748,\n",
              "        9.9296227 ,  6.66367551,  9.77549718, 19.0779034 ,  9.81393338,\n",
              "       13.77419043, 16.21167867,  6.52811401, 13.50822149, 17.98647514,\n",
              "       11.86593253,  9.31837984, 16.96056921, 12.84310713,  3.03594081,\n",
              "        2.21677389, 14.0313042 ,  9.09034971, 11.67478374, 17.89269685,\n",
              "       17.4923773 , 11.96768032,  5.46731192, 17.90414646, 12.88717403,\n",
              "        0.8785834 ,  7.98603187, 11.01712518, 15.87156638, -0.29099455,\n",
              "        3.82894627, 11.06413856, 10.39089367, 10.76050967,  0.17294255,\n",
              "       20.11213915, 10.31794537, 18.87099349,  8.04102987, 10.68102147,\n",
              "       12.67659052, 19.8606199 ,  8.94807365,  6.46724763, 10.65188027,\n",
              "       11.73978876,  3.82669685,  2.95042404,  8.7790162 , 11.61984014,\n",
              "       10.72503595, 16.82137109,  8.85863652,  6.02865598,  8.83395554,\n",
              "       12.21500705,  7.29875126,  8.95015673, 14.11522369, 11.62278267,\n",
              "        9.92585944, 10.5316767 , 14.57820982,  6.67873497, 14.57980952,\n",
              "        7.15658459,  7.41491119, 12.24276795, 11.37133671,  7.74581492,\n",
              "       13.69855279, 17.20507886, 18.6755679 , 16.73992417, 16.11980012,\n",
              "       18.15327384,  5.25180111,  7.65877116, 14.74150079,  7.0987328 ,\n",
              "       16.72281862,  7.6145432 ,  0.22356602, 16.68635525,  8.34086836,\n",
              "       20.64232308, 10.47334051,  4.63908368, 12.65597852, 14.70550981,\n",
              "       15.71252305, 12.4492154 ,  1.69241678, 20.29649339,  1.49929405,\n",
              "        7.4077574 , 13.24851348, 11.7690634 , 16.79997649, 12.53274881,\n",
              "       10.02975279, 16.43195516,  7.42991019, 11.96660957,  8.02303369,\n",
              "       16.41648896,  4.54416967,  9.49168364,  8.68950483, 15.16371722,\n",
              "       10.47425957, 18.64042426, 11.69447055, 14.96300301, 11.49530892,\n",
              "       16.62751983,  9.41946179, 15.39549846, 16.39883764,  7.50395732,\n",
              "        5.71590112, 14.25706449,  3.84698949, 16.48987949,  3.43481361,\n",
              "        9.54882625, 18.56054638,  6.23975847, 13.39727959, 12.47872212,\n",
              "       15.40546539,  9.5172792 ,  2.86557655,  6.5891926 , 17.87063509,\n",
              "        9.32900482, 14.32505203,  1.91332627, 11.79504437, 11.60900178,\n",
              "       13.22220245, 12.14689107, 17.49433172,  8.29078182, 15.20299977,\n",
              "        5.55553613, 13.2077304 , 15.84886722, 14.74261766, 12.22599851,\n",
              "        5.82002276,  7.65094808, 11.00671957, 15.58867269, 12.85063605,\n",
              "        1.28835305, 14.08418622,  1.07650999,  7.20923288,  9.98082572,\n",
              "       15.59886508,  8.77262561, 17.91876522, 15.97487397, 17.91372664,\n",
              "        3.62973247,  4.84153186, 13.67799328, 14.50924718, 12.6718471 ,\n",
              "       15.40958851, 15.2497508 ,  4.12804274, 10.19143024, 20.16349181,\n",
              "        8.65789073, 18.40496521, 18.28073434,  3.61363808,  9.10139729,\n",
              "       13.52161444, 17.91506266,  7.10622971, 11.48463655, 11.39058368,\n",
              "       11.84437602,  6.19923067, 14.41641095, 12.88986403, 15.09545117,\n",
              "       18.10750421, 11.47757162,  7.2036423 , 12.44374966, 11.39896901])"
            ]
          },
          "metadata": {},
          "execution_count": 29
        }
      ]
    },
    {
      "cell_type": "code",
      "source": [
        "regressor.score(x_test,y_test)\n",
        "r4 = r2_score(y_test,svr_predict)\n",
        "print(\"R2 score : \",r4)\n"
      ],
      "metadata": {
        "colab": {
          "base_uri": "https://localhost:8080/"
        },
        "id": "OsP5lK0oXskS",
        "outputId": "f3c3526e-1c43-42e1-eff7-ee184a9f24e8"
      },
      "execution_count": null,
      "outputs": [
        {
          "output_type": "stream",
          "name": "stdout",
          "text": [
            "R2 score :  0.7567555569465224\n"
          ]
        }
      ]
    },
    {
      "cell_type": "code",
      "source": [
        "ax = sns.kdeplot(y_test, color = \"r\", label = \"Actual value \")\n",
        "sns.kdeplot(svr_predict, color = \"b\", label = \"Predicted Values\", ax = ax)\n",
        "plt.title('Support Vector Regression')\n",
        "plt.legend()"
      ],
      "metadata": {
        "colab": {
          "base_uri": "https://localhost:8080/",
          "height": 489
        },
        "id": "fVUbJUdAQI-R",
        "outputId": "0b634bd4-61ef-4be8-b00f-703fec8cbf20"
      },
      "execution_count": null,
      "outputs": [
        {
          "output_type": "execute_result",
          "data": {
            "text/plain": [
              "<matplotlib.legend.Legend at 0x7d862c9c69b0>"
            ]
          },
          "metadata": {},
          "execution_count": 31
        },
        {
          "output_type": "display_data",
          "data": {
            "text/plain": [
              "<Figure size 640x480 with 1 Axes>"
            ],
            "image/png": "[encoded data removed]"
          },
          "metadata": {}
        }
      ]
    },
    {
      "cell_type": "markdown",
      "source": [
        "#GaussianNB"
      ],
      "metadata": {
        "id": "pk1yH0EIU72n"
      }
    },
    {
      "cell_type": "code",
      "source": [
        "#IMPORTING ALGORITHM NAIVE BAYES\n",
        "from sklearn.model_selection import train_test_split\n",
        "x_train,x_test,y_train,y_test=train_test_split(x,y,train_size=0.9,random_state=4)\n",
        "from sklearn.naive_bayes import GaussianNB\n",
        "modelG = GaussianNB()\n",
        "modelG.fit(x_train,y_train)\n",
        "\n",
        "#PREDICTION OF CROP\n",
        "y_prediction=modelG.predict(x_test)\n",
        "\n",
        "#MODEL METRICS\n",
        "from sklearn.metrics import accuracy_score\n",
        "r3=accuracy_score(y_test,y_prediction)\n",
        "r3"
      ],
      "metadata": {
        "id": "MlxRc0zvVbxU",
        "colab": {
          "base_uri": "https://localhost:8080/"
        },
        "outputId": "72a1654d-66ee-416f-e847-adcbb2de5cf5"
      },
      "execution_count": null,
      "outputs": [
        {
          "output_type": "execute_result",
          "data": {
            "text/plain": [
              "0.9818181818181818"
            ]
          },
          "metadata": {},
          "execution_count": 32
        }
      ]
    },
    {
      "cell_type": "code",
      "source": [
        "new = np.array([  82.,    3.87120101,    3.58351894,   25.79351957,\n",
        "           4.40389869,    6.35207678,  193.2418382 , 2240.        ])\n",
        "count=modelG.predict([new])\n",
        "crop = {i for i in le_name_mapping if le_name_mapping[i]==count[0]}\n",
        "print(\"Crop GROUP:\",crop)"
      ],
      "metadata": {
        "colab": {
          "base_uri": "https://localhost:8080/"
        },
        "id": "_2JdP5f2W96o",
        "outputId": "755049f3-11bd-41dd-ee4e-afe0d21ca93f"
      },
      "execution_count": null,
      "outputs": [
        {
          "output_type": "stream",
          "name": "stdout",
          "text": [
            "Crop GROUP: {'Jute'}\n"
          ]
        },
        {
          "output_type": "stream",
          "name": "stderr",
          "text": [
            "/usr/local/lib/python3.10/dist-packages/sklearn/base.py:439: UserWarning: X does not have valid feature names, but GaussianNB was fitted with feature names\n",
            "  warnings.warn(\n"
          ]
        }
      ]
    },
    {
      "cell_type": "code",
      "source": [
        "new = np.array([  109.        ,    3.04452244,    4.00733319,   24.9004602 ,\n",
        "           4.49686358,    6.77027809,   57.44942094, 1550.        ])\n",
        "count=modelG.predict([new])\n",
        "crop = {i for i in le_name_mapping if le_name_mapping[i]==count[0]}\n",
        "print(\"Crop GROUP:\",crop)"
      ],
      "metadata": {
        "colab": {
          "base_uri": "https://localhost:8080/"
        },
        "id": "EtcQ1b2soOFE",
        "outputId": "3c52b079-10cb-4926-9950-b49d1d1a524e"
      },
      "execution_count": null,
      "outputs": [
        {
          "output_type": "stream",
          "name": "stdout",
          "text": [
            "Crop GROUP: {'Watermelon'}\n"
          ]
        },
        {
          "output_type": "stream",
          "name": "stderr",
          "text": [
            "/usr/local/lib/python3.10/dist-packages/sklearn/base.py:439: UserWarning: X does not have valid feature names, but GaussianNB was fitted with feature names\n",
            "  warnings.warn(\n"
          ]
        }
      ]
    },
    {
      "cell_type": "code",
      "source": [
        "new = np.array([  99.        ,   3.98898405,   3.61091791,  21.14347496,\n",
        "          4.38620576,   5.59481963, 198.6730942 , 950.        ])\n",
        "count=modelG.predict([new])\n",
        "crop = {i for i in le_name_mapping if le_name_mapping[i]==count[0]}\n",
        "print(\"Crop GROUP:\",crop)"
      ],
      "metadata": {
        "colab": {
          "base_uri": "https://localhost:8080/"
        },
        "id": "jb383mIeRWZP",
        "outputId": "34647b0a-dc94-4b6a-cac3-9831f47d1c2a"
      },
      "execution_count": null,
      "outputs": [
        {
          "output_type": "stream",
          "name": "stdout",
          "text": [
            "Crop GROUP: {'Rice'}\n"
          ]
        },
        {
          "output_type": "stream",
          "name": "stderr",
          "text": [
            "/usr/local/lib/python3.10/dist-packages/sklearn/base.py:439: UserWarning: X does not have valid feature names, but GaussianNB was fitted with feature names\n",
            "  warnings.warn(\n"
          ]
        }
      ]
    },
    {
      "cell_type": "code",
      "source": [
        "new = np.array([  81.        ,    4.02535169,    3.58351894,   23.39605743,\n",
        "           4.28503556,    7.09758642,  174.7876411 , 1200.       ])\n",
        "count=modelG.predict([new])\n",
        "crop = {i for i in le_name_mapping if le_name_mapping[i]==count[0]}\n",
        "print(\"Crop GROUP:\",crop)"
      ],
      "metadata": {
        "colab": {
          "base_uri": "https://localhost:8080/"
        },
        "id": "FNzYoZtXRgJP",
        "outputId": "7dd3d55b-61cf-4fa4-9eb2-3dd62a1c6332"
      },
      "execution_count": null,
      "outputs": [
        {
          "output_type": "stream",
          "name": "stdout",
          "text": [
            "Crop GROUP: {'Jute'}\n"
          ]
        },
        {
          "output_type": "stream",
          "name": "stderr",
          "text": [
            "/usr/local/lib/python3.10/dist-packages/sklearn/base.py:439: UserWarning: X does not have valid feature names, but GaussianNB was fitted with feature names\n",
            "  warnings.warn(\n"
          ]
        }
      ]
    },
    {
      "cell_type": "code",
      "source": [
        "ax = sns.kdeplot(y_test, color = \"r\", label = \"Actual value \")\n",
        "sns.kdeplot(y_prediction, color = \"b\", label = \"Predicted Values\", ax = ax)\n",
        "plt.title('GaussianNB')\n",
        "plt.legend()"
      ],
      "metadata": {
        "colab": {
          "base_uri": "https://localhost:8080/",
          "height": 489
        },
        "id": "bp_aDumXYqgM",
        "outputId": "6c5ca8e6-fb57-4dd5-f2c9-75cdf2ed3db8"
      },
      "execution_count": null,
      "outputs": [
        {
          "output_type": "execute_result",
          "data": {
            "text/plain": [
              "<matplotlib.legend.Legend at 0x7d862c8c8520>"
            ]
          },
          "metadata": {},
          "execution_count": 37
        },
        {
          "output_type": "display_data",
          "data": {
            "text/plain": [
              "<Figure size 640x480 with 1 Axes>"
            ],
            "image/png": "[encoded data removed]"
          },
          "metadata": {}
        }
      ]
    },
    {
      "cell_type": "markdown",
      "source": [
        "#Cross-validation"
      ],
      "metadata": {
        "id": "EY2QsrAeVTex"
      }
    },
    {
      "cell_type": "code",
      "source": [
        "import numpy as np\n",
        "import matplotlib.pyplot as plt\n",
        "\n",
        "# create a dataset\n",
        "Algorithms = ['DecisionTree','RandomForest', 'GaussianNB','SupportvectorReg']\n",
        "Accuracy = [r1,r2,r3,r4]\n",
        "\n",
        "x_pos = np.arange(len(Accuracy))\n",
        "\n",
        "# Create bars with different colors\n",
        "plt.bar(x_pos, Accuracy, color=(0.2, 0.4, 0.6, 0.6))\n",
        "\n",
        "# Create names on the x-axis\n",
        "plt.xticks(x_pos, Algorithms)\n",
        "plt.ylabel('R-Squared Score')\n",
        "plt.xlabel('Machine Learning Regression Techniques')\n",
        "\n",
        "# Show graph\n",
        "plt.show()\n",
        "plt.savefig('SD.png')"
      ],
      "metadata": {
        "colab": {
          "base_uri": "https://localhost:8080/",
          "height": 466
        },
        "id": "vIr9bXq4RGPK",
        "outputId": "ea20d8a8-51d9-4e1c-c7c3-f7526c5b803b"
      },
      "execution_count": null,
      "outputs": [
        {
          "output_type": "display_data",
          "data": {
            "text/plain": [
              "<Figure size 640x480 with 1 Axes>"
            ],
            "image/png": "[encoded data removed]"
          },
          "metadata": {}
        },
        {
          "output_type": "display_data",
          "data": {
            "text/plain": [
              "<Figure size 640x480 with 0 Axes>"
            ]
          },
          "metadata": {}
        }
      ]
    }
  ]
}